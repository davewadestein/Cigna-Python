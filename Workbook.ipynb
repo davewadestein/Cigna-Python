{
 "cells": [
  {
   "cell_type": "markdown",
   "id": "46188b04-4bf1-44e7-86dd-5e459bfee0be",
   "metadata": {},
   "source": [
    "# Important Things to Know About Python\n",
    "* everything is an object\n",
    "  * they sit in memory\n",
    "  * we can inspect them, we can find them in memory\n",
    "  * objects consist of multiple parts\n",
    "* it's a terrible language for numerics\n",
    "  * 1991...Python's raison d'être was for manipulating data in the form of text/files/etc.\n",
    "  * Python has a lot of support for text/data manipulation as a result\n",
    "* two kinds of variables: scalars and containers\n",
    "  * scalar = a single value, e.g., int, float, bool\n",
    "  * container = an object which contains or has in it 0+ other objects\n",
    "    * e.g., str"
   ]
  },
  {
   "cell_type": "markdown",
   "id": "87e62ed3-487e-41cc-b32d-527260b31e8d",
   "metadata": {},
   "source": [
    "# Important Things to Know about Coding/Programming\n",
    "* \"mechanical sympathy\"\n",
    "  * Jackie Stewart\n",
    "* choose good variable names\n",
    "  * name should convey the contents of the variable (\"box\")\n",
    "  * e.g., __`cost`__ is better than __`c`__, __`cost_per_ounce`__ is better than __`cpo`__\n",
    "* \"Programs are written for humans to read, and only incidentally to be executed by computers\" –Hal Abelson\n",
    "* Eagelson's Law: \"Any code you wrote longer than six months ago, might as well have been written by someone else\""
   ]
  },
  {
   "cell_type": "markdown",
   "id": "521b1002-8599-4dca-af99-af3aa70f8a95",
   "metadata": {},
   "source": [
    "# \"Pythonic\"\n",
    "* idiomatic uses of Python that other Python folks expect to see, e.g.,\n",
    "  * using __`[-1]`__ to access last element of a container\n",
    "  * __`[-n]`__ is the nth from the end\n",
    "* composing functions\n",
    "  * __`int(input('...'))`__\n",
    "* when an object is difficult to work with, consider changing its type\n",
    "  * e.g., convert int to str in order to access the indvidual digits"
   ]
  },
  {
   "cell_type": "code",
   "execution_count": 1,
   "id": "c26a0963-8d2f-4257-8e6a-fafddfece2b7",
   "metadata": {},
   "outputs": [
    {
     "name": "stdout",
     "output_type": "stream",
     "text": [
      "Hello, world!\n"
     ]
    }
   ],
   "source": [
    "print('Hello, world!')"
   ]
  },
  {
   "cell_type": "code",
   "execution_count": 2,
   "id": "ebbfdc4c-3435-4f10-860a-507a376e2501",
   "metadata": {},
   "outputs": [
    {
     "data": {
      "text/plain": [
       "22"
      ]
     },
     "execution_count": 2,
     "metadata": {},
     "output_type": "execute_result"
    }
   ],
   "source": [
    "3 + 19"
   ]
  },
  {
   "cell_type": "code",
   "execution_count": 11,
   "id": "4e0f0fe9-0b18-431d-a6b6-8c9e02015b59",
   "metadata": {},
   "outputs": [],
   "source": [
    "cost = 19.95 # float"
   ]
  },
  {
   "cell_type": "code",
   "execution_count": 12,
   "id": "fbfb621e-f515-45a0-99a5-ee9aa1fac3c5",
   "metadata": {},
   "outputs": [
    {
     "data": {
      "text/plain": [
       "19.95"
      ]
     },
     "execution_count": 12,
     "metadata": {},
     "output_type": "execute_result"
    }
   ],
   "source": [
    "cost"
   ]
  },
  {
   "cell_type": "code",
   "execution_count": 13,
   "id": "24ac1e3b-9b02-40ff-847d-c38a0e508ab9",
   "metadata": {},
   "outputs": [
    {
     "data": {
      "text/plain": [
       "float"
      ]
     },
     "execution_count": 13,
     "metadata": {},
     "output_type": "execute_result"
    }
   ],
   "source": [
    "type(cost)"
   ]
  },
  {
   "cell_type": "code",
   "execution_count": 14,
   "id": "d5b5a8be-ca92-4fd5-917b-347582c1f9ac",
   "metadata": {},
   "outputs": [],
   "source": [
    "cost = 19 # int"
   ]
  },
  {
   "cell_type": "code",
   "execution_count": 15,
   "id": "ef1f2b0d-6d7d-449b-9b8c-2443df43ea6a",
   "metadata": {},
   "outputs": [
    {
     "data": {
      "text/plain": [
       "19"
      ]
     },
     "execution_count": 15,
     "metadata": {},
     "output_type": "execute_result"
    }
   ],
   "source": [
    "cost"
   ]
  },
  {
   "cell_type": "code",
   "execution_count": 16,
   "id": "fc79741c-a27f-4735-8b40-d87bba64915c",
   "metadata": {},
   "outputs": [
    {
     "data": {
      "text/plain": [
       "int"
      ]
     },
     "execution_count": 16,
     "metadata": {},
     "output_type": "execute_result"
    }
   ],
   "source": [
    "type(cost)"
   ]
  },
  {
   "cell_type": "code",
   "execution_count": 17,
   "id": "8434732f-d221-4365-9985-13e8639c91ef",
   "metadata": {},
   "outputs": [],
   "source": [
    "cost = 'Bruce Lee' # str(ing)"
   ]
  },
  {
   "cell_type": "code",
   "execution_count": 18,
   "id": "b98dd2bf-3c63-4af2-bcb4-d82c19ea26d2",
   "metadata": {},
   "outputs": [
    {
     "data": {
      "text/plain": [
       "'Bruce Lee'"
      ]
     },
     "execution_count": 18,
     "metadata": {},
     "output_type": "execute_result"
    }
   ],
   "source": [
    "cost"
   ]
  },
  {
   "cell_type": "code",
   "execution_count": 19,
   "id": "c56d2197-41b2-490a-8a84-a921c2a67ff0",
   "metadata": {},
   "outputs": [
    {
     "ename": "TypeError",
     "evalue": "can't multiply sequence by non-int of type 'float'",
     "output_type": "error",
     "traceback": [
      "\u001b[0;31m---------------------------------------------------------------------------\u001b[0m",
      "\u001b[0;31mTypeError\u001b[0m                                 Traceback (most recent call last)",
      "Cell \u001b[0;32mIn[19], line 1\u001b[0m\n\u001b[0;32m----> 1\u001b[0m \u001b[43mcost\u001b[49m\u001b[43m \u001b[49m\u001b[38;5;241;43m*\u001b[39;49m\u001b[43m \u001b[49m\u001b[38;5;241;43m1.09\u001b[39;49m\n",
      "\u001b[0;31mTypeError\u001b[0m: can't multiply sequence by non-int of type 'float'"
     ]
    }
   ],
   "source": [
    "cost * 1.09"
   ]
  },
  {
   "cell_type": "code",
   "execution_count": 21,
   "id": "e66bc568-ce85-4207-812c-55e45b9cf295",
   "metadata": {},
   "outputs": [],
   "source": [
    "thing = 19.95"
   ]
  },
  {
   "cell_type": "code",
   "execution_count": 22,
   "id": "cbdc38f9-35f5-4339-b635-973bfaf56bbd",
   "metadata": {},
   "outputs": [],
   "source": [
    "t = 19.95 # not good"
   ]
  },
  {
   "cell_type": "code",
   "execution_count": 23,
   "id": "1f9d8f89-b047-4e81-9122-98f9ac6de3d2",
   "metadata": {},
   "outputs": [],
   "source": [
    "cpo = 0.32 # better, but not best"
   ]
  },
  {
   "cell_type": "code",
   "execution_count": 24,
   "id": "1f57926b-24b0-4beb-951a-bab0a511939a",
   "metadata": {},
   "outputs": [
    {
     "data": {
      "text/plain": [
       "0.32"
      ]
     },
     "execution_count": 24,
     "metadata": {},
     "output_type": "execute_result"
    }
   ],
   "source": [
    "cpo"
   ]
  },
  {
   "cell_type": "code",
   "execution_count": 25,
   "id": "e11b1145-d40e-4eb0-b623-b9df602cc349",
   "metadata": {},
   "outputs": [
    {
     "data": {
      "text/plain": [
       "0.384"
      ]
     },
     "execution_count": 25,
     "metadata": {},
     "output_type": "execute_result"
    }
   ],
   "source": [
    "cpo * 1.2"
   ]
  },
  {
   "cell_type": "code",
   "execution_count": 26,
   "id": "d84e31ba-fa34-4345-92e5-6135caaffcaa",
   "metadata": {},
   "outputs": [
    {
     "name": "stdout",
     "output_type": "stream",
     "text": [
      "Cost per ounce = 0.32\n"
     ]
    }
   ],
   "source": [
    "print('Cost per ounce =', cpo)"
   ]
  },
  {
   "cell_type": "code",
   "execution_count": 27,
   "id": "590e1cd0-a832-489d-9f02-0d0e07b3414c",
   "metadata": {},
   "outputs": [
    {
     "data": {
      "text/plain": [
       "'Grace Hopper'"
      ]
     },
     "execution_count": 27,
     "metadata": {},
     "output_type": "execute_result"
    }
   ],
   "source": [
    "'Grace' + ' ' + 'Hopper'"
   ]
  },
  {
   "cell_type": "code",
   "execution_count": 28,
   "id": "e669dded-2b46-4650-beeb-e7ec0d7003b8",
   "metadata": {},
   "outputs": [
    {
     "data": {
      "text/plain": [
       "2"
      ]
     },
     "execution_count": 28,
     "metadata": {},
     "output_type": "execute_result"
    }
   ],
   "source": [
    "1 + 1"
   ]
  },
  {
   "cell_type": "code",
   "execution_count": 29,
   "id": "cd112bd3-ce8b-4046-aebb-85fd4e3b965a",
   "metadata": {},
   "outputs": [
    {
     "data": {
      "text/plain": [
       "2.0"
      ]
     },
     "execution_count": 29,
     "metadata": {},
     "output_type": "execute_result"
    }
   ],
   "source": [
    "1.0 + 1.0 "
   ]
  },
  {
   "cell_type": "code",
   "execution_count": 30,
   "id": "b2a4362c-f388-4c8b-9bbb-3dc4a01ea7fe",
   "metadata": {},
   "outputs": [
    {
     "data": {
      "text/plain": [
       "'11'"
      ]
     },
     "execution_count": 30,
     "metadata": {},
     "output_type": "execute_result"
    }
   ],
   "source": [
    "'1' + '1'"
   ]
  },
  {
   "cell_type": "code",
   "execution_count": 31,
   "id": "c1e6ee36-68ca-4911-870a-c093d148ef75",
   "metadata": {},
   "outputs": [],
   "source": [
    "year = 2024"
   ]
  },
  {
   "cell_type": "code",
   "execution_count": 32,
   "id": "584c79d8-8b12-4af6-9242-4d280910456f",
   "metadata": {},
   "outputs": [
    {
     "data": {
      "text/plain": [
       "['In',\n",
       " 'Out',\n",
       " '_',\n",
       " '_12',\n",
       " '_13',\n",
       " '_15',\n",
       " '_16',\n",
       " '_18',\n",
       " '_2',\n",
       " '_24',\n",
       " '_25',\n",
       " '_27',\n",
       " '_28',\n",
       " '_29',\n",
       " '_30',\n",
       " '_4',\n",
       " '_5',\n",
       " '_8',\n",
       " '_9',\n",
       " '__',\n",
       " '___',\n",
       " '__builtin__',\n",
       " '__builtins__',\n",
       " '__doc__',\n",
       " '__loader__',\n",
       " '__name__',\n",
       " '__package__',\n",
       " '__session__',\n",
       " '__spec__',\n",
       " '_dh',\n",
       " '_i',\n",
       " '_i1',\n",
       " '_i10',\n",
       " '_i11',\n",
       " '_i12',\n",
       " '_i13',\n",
       " '_i14',\n",
       " '_i15',\n",
       " '_i16',\n",
       " '_i17',\n",
       " '_i18',\n",
       " '_i19',\n",
       " '_i2',\n",
       " '_i20',\n",
       " '_i21',\n",
       " '_i22',\n",
       " '_i23',\n",
       " '_i24',\n",
       " '_i25',\n",
       " '_i26',\n",
       " '_i27',\n",
       " '_i28',\n",
       " '_i29',\n",
       " '_i3',\n",
       " '_i30',\n",
       " '_i31',\n",
       " '_i32',\n",
       " '_i4',\n",
       " '_i5',\n",
       " '_i6',\n",
       " '_i7',\n",
       " '_i8',\n",
       " '_i9',\n",
       " '_ih',\n",
       " '_ii',\n",
       " '_iii',\n",
       " '_oh',\n",
       " 'apple',\n",
       " 'cost',\n",
       " 'cpo',\n",
       " 'exit',\n",
       " 'get_ipython',\n",
       " 'open',\n",
       " 'quit',\n",
       " 't',\n",
       " 'thing',\n",
       " 'year']"
      ]
     },
     "execution_count": 32,
     "metadata": {},
     "output_type": "execute_result"
    }
   ],
   "source": [
    "dir()"
   ]
  },
  {
   "cell_type": "code",
   "execution_count": 33,
   "id": "9fc61e93-0b21-4129-993c-d0282e3547a4",
   "metadata": {},
   "outputs": [],
   "source": [
    "gazornin = 34.56"
   ]
  },
  {
   "cell_type": "code",
   "execution_count": 34,
   "id": "bb825d9d-bca8-451e-aa85-a53bcb82c1ce",
   "metadata": {},
   "outputs": [
    {
     "data": {
      "text/plain": [
       "['In',\n",
       " 'Out',\n",
       " '_',\n",
       " '_12',\n",
       " '_13',\n",
       " '_15',\n",
       " '_16',\n",
       " '_18',\n",
       " '_2',\n",
       " '_24',\n",
       " '_25',\n",
       " '_27',\n",
       " '_28',\n",
       " '_29',\n",
       " '_30',\n",
       " '_32',\n",
       " '_4',\n",
       " '_5',\n",
       " '_8',\n",
       " '_9',\n",
       " '__',\n",
       " '___',\n",
       " '__builtin__',\n",
       " '__builtins__',\n",
       " '__doc__',\n",
       " '__loader__',\n",
       " '__name__',\n",
       " '__package__',\n",
       " '__session__',\n",
       " '__spec__',\n",
       " '_dh',\n",
       " '_i',\n",
       " '_i1',\n",
       " '_i10',\n",
       " '_i11',\n",
       " '_i12',\n",
       " '_i13',\n",
       " '_i14',\n",
       " '_i15',\n",
       " '_i16',\n",
       " '_i17',\n",
       " '_i18',\n",
       " '_i19',\n",
       " '_i2',\n",
       " '_i20',\n",
       " '_i21',\n",
       " '_i22',\n",
       " '_i23',\n",
       " '_i24',\n",
       " '_i25',\n",
       " '_i26',\n",
       " '_i27',\n",
       " '_i28',\n",
       " '_i29',\n",
       " '_i3',\n",
       " '_i30',\n",
       " '_i31',\n",
       " '_i32',\n",
       " '_i33',\n",
       " '_i34',\n",
       " '_i4',\n",
       " '_i5',\n",
       " '_i6',\n",
       " '_i7',\n",
       " '_i8',\n",
       " '_i9',\n",
       " '_ih',\n",
       " '_ii',\n",
       " '_iii',\n",
       " '_oh',\n",
       " 'apple',\n",
       " 'cost',\n",
       " 'cpo',\n",
       " 'exit',\n",
       " 'gazornin',\n",
       " 'get_ipython',\n",
       " 'open',\n",
       " 'quit',\n",
       " 't',\n",
       " 'thing',\n",
       " 'year']"
      ]
     },
     "execution_count": 34,
     "metadata": {},
     "output_type": "execute_result"
    }
   ],
   "source": [
    "dir()"
   ]
  },
  {
   "cell_type": "code",
   "execution_count": 35,
   "id": "71cf175b-de59-4fa6-96d5-57a2075fe4fa",
   "metadata": {},
   "outputs": [
    {
     "data": {
      "text/plain": [
       "5"
      ]
     },
     "execution_count": 35,
     "metadata": {},
     "output_type": "execute_result"
    }
   ],
   "source": [
    "2 + 3"
   ]
  },
  {
   "cell_type": "code",
   "execution_count": 36,
   "id": "8ebc4344-447f-4f27-9b2f-5612f03fe546",
   "metadata": {},
   "outputs": [],
   "source": [
    "import math # dark green = a keyword, or part of the Python language"
   ]
  },
  {
   "cell_type": "code",
   "execution_count": 37,
   "id": "9f63e845-d6fe-48a1-952d-88a6480cc897",
   "metadata": {
    "scrolled": true
   },
   "outputs": [
    {
     "data": {
      "text/plain": [
       "['In',\n",
       " 'Out',\n",
       " '_',\n",
       " '_12',\n",
       " '_13',\n",
       " '_15',\n",
       " '_16',\n",
       " '_18',\n",
       " '_2',\n",
       " '_24',\n",
       " '_25',\n",
       " '_27',\n",
       " '_28',\n",
       " '_29',\n",
       " '_30',\n",
       " '_32',\n",
       " '_34',\n",
       " '_35',\n",
       " '_4',\n",
       " '_5',\n",
       " '_8',\n",
       " '_9',\n",
       " '__',\n",
       " '___',\n",
       " '__builtin__',\n",
       " '__builtins__',\n",
       " '__doc__',\n",
       " '__loader__',\n",
       " '__name__',\n",
       " '__package__',\n",
       " '__session__',\n",
       " '__spec__',\n",
       " '_dh',\n",
       " '_i',\n",
       " '_i1',\n",
       " '_i10',\n",
       " '_i11',\n",
       " '_i12',\n",
       " '_i13',\n",
       " '_i14',\n",
       " '_i15',\n",
       " '_i16',\n",
       " '_i17',\n",
       " '_i18',\n",
       " '_i19',\n",
       " '_i2',\n",
       " '_i20',\n",
       " '_i21',\n",
       " '_i22',\n",
       " '_i23',\n",
       " '_i24',\n",
       " '_i25',\n",
       " '_i26',\n",
       " '_i27',\n",
       " '_i28',\n",
       " '_i29',\n",
       " '_i3',\n",
       " '_i30',\n",
       " '_i31',\n",
       " '_i32',\n",
       " '_i33',\n",
       " '_i34',\n",
       " '_i35',\n",
       " '_i36',\n",
       " '_i37',\n",
       " '_i4',\n",
       " '_i5',\n",
       " '_i6',\n",
       " '_i7',\n",
       " '_i8',\n",
       " '_i9',\n",
       " '_ih',\n",
       " '_ii',\n",
       " '_iii',\n",
       " '_oh',\n",
       " 'apple',\n",
       " 'cost',\n",
       " 'cpo',\n",
       " 'exit',\n",
       " 'gazornin',\n",
       " 'get_ipython',\n",
       " 'math',\n",
       " 'open',\n",
       " 'quit',\n",
       " 't',\n",
       " 'thing',\n",
       " 'year']"
      ]
     },
     "execution_count": 37,
     "metadata": {},
     "output_type": "execute_result"
    }
   ],
   "source": [
    "dir()"
   ]
  },
  {
   "cell_type": "code",
   "execution_count": 38,
   "id": "dffcb89e-aa8a-4f65-88a7-70f2ef8dd1b1",
   "metadata": {},
   "outputs": [
    {
     "data": {
      "text/plain": [
       "['__doc__',\n",
       " '__file__',\n",
       " '__loader__',\n",
       " '__name__',\n",
       " '__package__',\n",
       " '__spec__',\n",
       " 'acos',\n",
       " 'acosh',\n",
       " 'asin',\n",
       " 'asinh',\n",
       " 'atan',\n",
       " 'atan2',\n",
       " 'atanh',\n",
       " 'cbrt',\n",
       " 'ceil',\n",
       " 'comb',\n",
       " 'copysign',\n",
       " 'cos',\n",
       " 'cosh',\n",
       " 'degrees',\n",
       " 'dist',\n",
       " 'e',\n",
       " 'erf',\n",
       " 'erfc',\n",
       " 'exp',\n",
       " 'exp2',\n",
       " 'expm1',\n",
       " 'fabs',\n",
       " 'factorial',\n",
       " 'floor',\n",
       " 'fmod',\n",
       " 'frexp',\n",
       " 'fsum',\n",
       " 'gamma',\n",
       " 'gcd',\n",
       " 'hypot',\n",
       " 'inf',\n",
       " 'isclose',\n",
       " 'isfinite',\n",
       " 'isinf',\n",
       " 'isnan',\n",
       " 'isqrt',\n",
       " 'lcm',\n",
       " 'ldexp',\n",
       " 'lgamma',\n",
       " 'log',\n",
       " 'log10',\n",
       " 'log1p',\n",
       " 'log2',\n",
       " 'modf',\n",
       " 'nan',\n",
       " 'nextafter',\n",
       " 'perm',\n",
       " 'pi',\n",
       " 'pow',\n",
       " 'prod',\n",
       " 'radians',\n",
       " 'remainder',\n",
       " 'sin',\n",
       " 'sinh',\n",
       " 'sqrt',\n",
       " 'sumprod',\n",
       " 'tan',\n",
       " 'tanh',\n",
       " 'tau',\n",
       " 'trunc',\n",
       " 'ulp']"
      ]
     },
     "execution_count": 38,
     "metadata": {},
     "output_type": "execute_result"
    }
   ],
   "source": [
    "dir(math)"
   ]
  },
  {
   "cell_type": "code",
   "execution_count": 39,
   "id": "09460779-f558-4fac-bbd5-ea4858b8d659",
   "metadata": {},
   "outputs": [
    {
     "data": {
      "text/plain": [
       "builtin_function_or_method"
      ]
     },
     "execution_count": 39,
     "metadata": {},
     "output_type": "execute_result"
    }
   ],
   "source": [
    "type(math.cos)"
   ]
  },
  {
   "cell_type": "code",
   "execution_count": 40,
   "id": "2743ebd9-0de4-458a-8286-98fd0cd7f15e",
   "metadata": {},
   "outputs": [
    {
     "data": {
      "text/plain": [
       "float"
      ]
     },
     "execution_count": 40,
     "metadata": {},
     "output_type": "execute_result"
    }
   ],
   "source": [
    "type(math.pi)"
   ]
  },
  {
   "cell_type": "code",
   "execution_count": 41,
   "id": "4ffb5a19-e98e-4ecb-b548-2c7de387aa0d",
   "metadata": {},
   "outputs": [
    {
     "name": "stdout",
     "output_type": "stream",
     "text": [
      "Help on module math:\n",
      "\n",
      "NAME\n",
      "    math\n",
      "\n",
      "MODULE REFERENCE\n",
      "    https://docs.python.org/3.12/library/math.html\n",
      "\n",
      "    The following documentation is automatically generated from the Python\n",
      "    source files.  It may be incomplete, incorrect or include features that\n",
      "    are considered implementation detail and may vary between Python\n",
      "    implementations.  When in doubt, consult the module reference at the\n",
      "    location listed above.\n",
      "\n",
      "DESCRIPTION\n",
      "    This module provides access to the mathematical functions\n",
      "    defined by the C standard.\n",
      "\n",
      "FUNCTIONS\n",
      "    acos(x, /)\n",
      "        Return the arc cosine (measured in radians) of x.\n",
      "\n",
      "        The result is between 0 and pi.\n",
      "\n",
      "    acosh(x, /)\n",
      "        Return the inverse hyperbolic cosine of x.\n",
      "\n",
      "    asin(x, /)\n",
      "        Return the arc sine (measured in radians) of x.\n",
      "\n",
      "        The result is between -pi/2 and pi/2.\n",
      "\n",
      "    asinh(x, /)\n",
      "        Return the inverse hyperbolic sine of x.\n",
      "\n",
      "    atan(x, /)\n",
      "        Return the arc tangent (measured in radians) of x.\n",
      "\n",
      "        The result is between -pi/2 and pi/2.\n",
      "\n",
      "    atan2(y, x, /)\n",
      "        Return the arc tangent (measured in radians) of y/x.\n",
      "\n",
      "        Unlike atan(y/x), the signs of both x and y are considered.\n",
      "\n",
      "    atanh(x, /)\n",
      "        Return the inverse hyperbolic tangent of x.\n",
      "\n",
      "    cbrt(x, /)\n",
      "        Return the cube root of x.\n",
      "\n",
      "    ceil(x, /)\n",
      "        Return the ceiling of x as an Integral.\n",
      "\n",
      "        This is the smallest integer >= x.\n",
      "\n",
      "    comb(n, k, /)\n",
      "        Number of ways to choose k items from n items without repetition and without order.\n",
      "\n",
      "        Evaluates to n! / (k! * (n - k)!) when k <= n and evaluates\n",
      "        to zero when k > n.\n",
      "\n",
      "        Also called the binomial coefficient because it is equivalent\n",
      "        to the coefficient of k-th term in polynomial expansion of the\n",
      "        expression (1 + x)**n.\n",
      "\n",
      "        Raises TypeError if either of the arguments are not integers.\n",
      "        Raises ValueError if either of the arguments are negative.\n",
      "\n",
      "    copysign(x, y, /)\n",
      "        Return a float with the magnitude (absolute value) of x but the sign of y.\n",
      "\n",
      "        On platforms that support signed zeros, copysign(1.0, -0.0)\n",
      "        returns -1.0.\n",
      "\n",
      "    cos(x, /)\n",
      "        Return the cosine of x (measured in radians).\n",
      "\n",
      "    cosh(x, /)\n",
      "        Return the hyperbolic cosine of x.\n",
      "\n",
      "    degrees(x, /)\n",
      "        Convert angle x from radians to degrees.\n",
      "\n",
      "    dist(p, q, /)\n",
      "        Return the Euclidean distance between two points p and q.\n",
      "\n",
      "        The points should be specified as sequences (or iterables) of\n",
      "        coordinates.  Both inputs must have the same dimension.\n",
      "\n",
      "        Roughly equivalent to:\n",
      "            sqrt(sum((px - qx) ** 2.0 for px, qx in zip(p, q)))\n",
      "\n",
      "    erf(x, /)\n",
      "        Error function at x.\n",
      "\n",
      "    erfc(x, /)\n",
      "        Complementary error function at x.\n",
      "\n",
      "    exp(x, /)\n",
      "        Return e raised to the power of x.\n",
      "\n",
      "    exp2(x, /)\n",
      "        Return 2 raised to the power of x.\n",
      "\n",
      "    expm1(x, /)\n",
      "        Return exp(x)-1.\n",
      "\n",
      "        This function avoids the loss of precision involved in the direct evaluation of exp(x)-1 for small x.\n",
      "\n",
      "    fabs(x, /)\n",
      "        Return the absolute value of the float x.\n",
      "\n",
      "    factorial(n, /)\n",
      "        Find n!.\n",
      "\n",
      "        Raise a ValueError if x is negative or non-integral.\n",
      "\n",
      "    floor(x, /)\n",
      "        Return the floor of x as an Integral.\n",
      "\n",
      "        This is the largest integer <= x.\n",
      "\n",
      "    fmod(x, y, /)\n",
      "        Return fmod(x, y), according to platform C.\n",
      "\n",
      "        x % y may differ.\n",
      "\n",
      "    frexp(x, /)\n",
      "        Return the mantissa and exponent of x, as pair (m, e).\n",
      "\n",
      "        m is a float and e is an int, such that x = m * 2.**e.\n",
      "        If x is 0, m and e are both 0.  Else 0.5 <= abs(m) < 1.0.\n",
      "\n",
      "    fsum(seq, /)\n",
      "        Return an accurate floating point sum of values in the iterable seq.\n",
      "\n",
      "        Assumes IEEE-754 floating point arithmetic.\n",
      "\n",
      "    gamma(x, /)\n",
      "        Gamma function at x.\n",
      "\n",
      "    gcd(*integers)\n",
      "        Greatest Common Divisor.\n",
      "\n",
      "    hypot(...)\n",
      "        hypot(*coordinates) -> value\n",
      "\n",
      "        Multidimensional Euclidean distance from the origin to a point.\n",
      "\n",
      "        Roughly equivalent to:\n",
      "            sqrt(sum(x**2 for x in coordinates))\n",
      "\n",
      "        For a two dimensional point (x, y), gives the hypotenuse\n",
      "        using the Pythagorean theorem:  sqrt(x*x + y*y).\n",
      "\n",
      "        For example, the hypotenuse of a 3/4/5 right triangle is:\n",
      "\n",
      "            >>> hypot(3.0, 4.0)\n",
      "            5.0\n",
      "\n",
      "    isclose(a, b, *, rel_tol=1e-09, abs_tol=0.0)\n",
      "        Determine whether two floating point numbers are close in value.\n",
      "\n",
      "          rel_tol\n",
      "            maximum difference for being considered \"close\", relative to the\n",
      "            magnitude of the input values\n",
      "          abs_tol\n",
      "            maximum difference for being considered \"close\", regardless of the\n",
      "            magnitude of the input values\n",
      "\n",
      "        Return True if a is close in value to b, and False otherwise.\n",
      "\n",
      "        For the values to be considered close, the difference between them\n",
      "        must be smaller than at least one of the tolerances.\n",
      "\n",
      "        -inf, inf and NaN behave similarly to the IEEE 754 Standard.  That\n",
      "        is, NaN is not close to anything, even itself.  inf and -inf are\n",
      "        only close to themselves.\n",
      "\n",
      "    isfinite(x, /)\n",
      "        Return True if x is neither an infinity nor a NaN, and False otherwise.\n",
      "\n",
      "    isinf(x, /)\n",
      "        Return True if x is a positive or negative infinity, and False otherwise.\n",
      "\n",
      "    isnan(x, /)\n",
      "        Return True if x is a NaN (not a number), and False otherwise.\n",
      "\n",
      "    isqrt(n, /)\n",
      "        Return the integer part of the square root of the input.\n",
      "\n",
      "    lcm(*integers)\n",
      "        Least Common Multiple.\n",
      "\n",
      "    ldexp(x, i, /)\n",
      "        Return x * (2**i).\n",
      "\n",
      "        This is essentially the inverse of frexp().\n",
      "\n",
      "    lgamma(x, /)\n",
      "        Natural logarithm of absolute value of Gamma function at x.\n",
      "\n",
      "    log(...)\n",
      "        log(x, [base=math.e])\n",
      "        Return the logarithm of x to the given base.\n",
      "\n",
      "        If the base is not specified, returns the natural logarithm (base e) of x.\n",
      "\n",
      "    log10(x, /)\n",
      "        Return the base 10 logarithm of x.\n",
      "\n",
      "    log1p(x, /)\n",
      "        Return the natural logarithm of 1+x (base e).\n",
      "\n",
      "        The result is computed in a way which is accurate for x near zero.\n",
      "\n",
      "    log2(x, /)\n",
      "        Return the base 2 logarithm of x.\n",
      "\n",
      "    modf(x, /)\n",
      "        Return the fractional and integer parts of x.\n",
      "\n",
      "        Both results carry the sign of x and are floats.\n",
      "\n",
      "    nextafter(x, y, /, *, steps=None)\n",
      "        Return the floating-point value the given number of steps after x towards y.\n",
      "\n",
      "        If steps is not specified or is None, it defaults to 1.\n",
      "\n",
      "        Raises a TypeError, if x or y is not a double, or if steps is not an integer.\n",
      "        Raises ValueError if steps is negative.\n",
      "\n",
      "    perm(n, k=None, /)\n",
      "        Number of ways to choose k items from n items without repetition and with order.\n",
      "\n",
      "        Evaluates to n! / (n - k)! when k <= n and evaluates\n",
      "        to zero when k > n.\n",
      "\n",
      "        If k is not specified or is None, then k defaults to n\n",
      "        and the function returns n!.\n",
      "\n",
      "        Raises TypeError if either of the arguments are not integers.\n",
      "        Raises ValueError if either of the arguments are negative.\n",
      "\n",
      "    pow(x, y, /)\n",
      "        Return x**y (x to the power of y).\n",
      "\n",
      "    prod(iterable, /, *, start=1)\n",
      "        Calculate the product of all the elements in the input iterable.\n",
      "\n",
      "        The default start value for the product is 1.\n",
      "\n",
      "        When the iterable is empty, return the start value.  This function is\n",
      "        intended specifically for use with numeric values and may reject\n",
      "        non-numeric types.\n",
      "\n",
      "    radians(x, /)\n",
      "        Convert angle x from degrees to radians.\n",
      "\n",
      "    remainder(x, y, /)\n",
      "        Difference between x and the closest integer multiple of y.\n",
      "\n",
      "        Return x - n*y where n*y is the closest integer multiple of y.\n",
      "        In the case where x is exactly halfway between two multiples of\n",
      "        y, the nearest even value of n is used. The result is always exact.\n",
      "\n",
      "    sin(x, /)\n",
      "        Return the sine of x (measured in radians).\n",
      "\n",
      "    sinh(x, /)\n",
      "        Return the hyperbolic sine of x.\n",
      "\n",
      "    sqrt(x, /)\n",
      "        Return the square root of x.\n",
      "\n",
      "    sumprod(p, q, /)\n",
      "        Return the sum of products of values from two iterables p and q.\n",
      "\n",
      "        Roughly equivalent to:\n",
      "\n",
      "            sum(itertools.starmap(operator.mul, zip(p, q, strict=True)))\n",
      "\n",
      "        For float and mixed int/float inputs, the intermediate products\n",
      "        and sums are computed with extended precision.\n",
      "\n",
      "    tan(x, /)\n",
      "        Return the tangent of x (measured in radians).\n",
      "\n",
      "    tanh(x, /)\n",
      "        Return the hyperbolic tangent of x.\n",
      "\n",
      "    trunc(x, /)\n",
      "        Truncates the Real x to the nearest Integral toward 0.\n",
      "\n",
      "        Uses the __trunc__ magic method.\n",
      "\n",
      "    ulp(x, /)\n",
      "        Return the value of the least significant bit of the float x.\n",
      "\n",
      "DATA\n",
      "    e = 2.718281828459045\n",
      "    inf = inf\n",
      "    nan = nan\n",
      "    pi = 3.141592653589793\n",
      "    tau = 6.283185307179586\n",
      "\n",
      "FILE\n",
      "    /Library/Frameworks/Python.framework/Versions/3.12/lib/python3.12/lib-dynload/math.cpython-312-darwin.so\n",
      "\n",
      "\n"
     ]
    }
   ],
   "source": [
    "help(math)"
   ]
  },
  {
   "cell_type": "code",
   "execution_count": 42,
   "id": "c6ca393c-ec4b-4083-83d7-3ca01fa13cfd",
   "metadata": {},
   "outputs": [
    {
     "name": "stdout",
     "output_type": "stream",
     "text": [
      "Help on built-in function factorial in module math:\n",
      "\n",
      "factorial(n, /)\n",
      "    Find n!.\n",
      "\n",
      "    Raise a ValueError if x is negative or non-integral.\n",
      "\n"
     ]
    }
   ],
   "source": [
    "help(math.factorial)"
   ]
  },
  {
   "cell_type": "code",
   "execution_count": 43,
   "id": "3f1d979a-29ee-457b-930c-7a53aa0bb6a8",
   "metadata": {},
   "outputs": [
    {
     "data": {
      "text/plain": [
       "builtin_function_or_method"
      ]
     },
     "execution_count": 43,
     "metadata": {},
     "output_type": "execute_result"
    }
   ],
   "source": [
    "type(dir)"
   ]
  },
  {
   "cell_type": "code",
   "execution_count": 44,
   "id": "5a16e7d4-1e1d-4d64-a83d-a6706436cf6a",
   "metadata": {},
   "outputs": [
    {
     "data": {
      "text/plain": [
       "module"
      ]
     },
     "execution_count": 44,
     "metadata": {},
     "output_type": "execute_result"
    }
   ],
   "source": [
    "type(math)"
   ]
  },
  {
   "cell_type": "code",
   "execution_count": 46,
   "id": "d0cac51f-399d-4f2e-b8c9-afc030cf3ad7",
   "metadata": {},
   "outputs": [
    {
     "data": {
      "text/plain": [
       "builtin_function_or_method"
      ]
     },
     "execution_count": 46,
     "metadata": {},
     "output_type": "execute_result"
    }
   ],
   "source": [
    "type(print)"
   ]
  },
  {
   "cell_type": "code",
   "execution_count": 47,
   "id": "b9e51d59-fd81-4930-8651-8b8101fb8a5e",
   "metadata": {},
   "outputs": [
    {
     "data": {
      "text/plain": [
       "['False',\n",
       " 'None',\n",
       " 'True',\n",
       " 'and',\n",
       " 'as',\n",
       " 'assert',\n",
       " 'async',\n",
       " 'await',\n",
       " 'break',\n",
       " 'class',\n",
       " 'continue',\n",
       " 'def',\n",
       " 'del',\n",
       " 'elif',\n",
       " 'else',\n",
       " 'except',\n",
       " 'finally',\n",
       " 'for',\n",
       " 'from',\n",
       " 'global',\n",
       " 'if',\n",
       " 'import',\n",
       " 'in',\n",
       " 'is',\n",
       " 'lambda',\n",
       " 'nonlocal',\n",
       " 'not',\n",
       " 'or',\n",
       " 'pass',\n",
       " 'raise',\n",
       " 'return',\n",
       " 'try',\n",
       " 'while',\n",
       " 'with',\n",
       " 'yield']"
      ]
     },
     "execution_count": 47,
     "metadata": {},
     "output_type": "execute_result"
    }
   ],
   "source": [
    "import keyword\n",
    "keyword.kwlist"
   ]
  },
  {
   "cell_type": "code",
   "execution_count": 48,
   "id": "601126ab-2f68-4480-a3ed-5c3b3cdcfd2a",
   "metadata": {},
   "outputs": [
    {
     "ename": "SyntaxError",
     "evalue": "invalid syntax (3674606335.py, line 1)",
     "output_type": "error",
     "traceback": [
      "\u001b[0;36m  Cell \u001b[0;32mIn[48], line 1\u001b[0;36m\u001b[0m\n\u001b[0;31m    raise = 22\u001b[0m\n\u001b[0m          ^\u001b[0m\n\u001b[0;31mSyntaxError\u001b[0m\u001b[0;31m:\u001b[0m invalid syntax\n"
     ]
    }
   ],
   "source": [
    "raise = 22"
   ]
  },
  {
   "cell_type": "code",
   "execution_count": 49,
   "id": "c0981f4a-9ef9-420f-b28f-83bcec205792",
   "metadata": {},
   "outputs": [],
   "source": [
    "raised = 22"
   ]
  },
  {
   "cell_type": "code",
   "execution_count": 50,
   "id": "68d4a86d-ccb3-4245-aebe-9eea874dab1a",
   "metadata": {
    "scrolled": true
   },
   "outputs": [
    {
     "data": {
      "text/plain": [
       "{'__name__': '__main__',\n",
       " '__doc__': 'Automatically created module for IPython interactive environment',\n",
       " '__package__': None,\n",
       " '__loader__': None,\n",
       " '__spec__': None,\n",
       " '__builtin__': <module 'builtins' (built-in)>,\n",
       " '__builtins__': <module 'builtins' (built-in)>,\n",
       " '_ih': ['',\n",
       "  \"print('Hello, world!')\",\n",
       "  '3 + 19',\n",
       "  'cost = 19.95',\n",
       "  'cost',\n",
       "  'type(cost)',\n",
       "  'cost = 19',\n",
       "  'cost = 19 # int',\n",
       "  'cost',\n",
       "  'type(cost)',\n",
       "  'cost = 19.95 # float',\n",
       "  'cost = 19.95 # float',\n",
       "  'cost',\n",
       "  'type(cost)',\n",
       "  'cost = 19 # int',\n",
       "  'cost',\n",
       "  'type(cost)',\n",
       "  \"cost = 'Bruce Lee' # str(ing)\",\n",
       "  'cost',\n",
       "  'cost * 1.09',\n",
       "  'apple = 19.95',\n",
       "  'thing = 19.95',\n",
       "  't = 19.95',\n",
       "  'cpo = 0.32',\n",
       "  'cpo',\n",
       "  'cpo * 1.2',\n",
       "  \"print('Cost per ounce =', cpo)\",\n",
       "  \"'Grace' + ' ' + 'Hopper'\",\n",
       "  '1 + 1',\n",
       "  '1.0 + 1.0 ',\n",
       "  \"'1' + '1'\",\n",
       "  'year = 2024',\n",
       "  'dir()',\n",
       "  'gazornin = 34.56',\n",
       "  'dir()',\n",
       "  '2 + 3',\n",
       "  'import math',\n",
       "  'dir()',\n",
       "  'dir(math)',\n",
       "  'type(math.cos)',\n",
       "  'type(math.pi)',\n",
       "  'help(math)',\n",
       "  'help(math.factorial)',\n",
       "  'type(dir)',\n",
       "  'type(math)',\n",
       "  'type(type)',\n",
       "  'type(print)',\n",
       "  'import keyword\\nkeyword.kwlist',\n",
       "  'raise = 22',\n",
       "  'raised = 22',\n",
       "  'globals()'],\n",
       " '_oh': {2: 22,\n",
       "  4: 19.95,\n",
       "  5: float,\n",
       "  8: 19,\n",
       "  9: int,\n",
       "  12: 19.95,\n",
       "  13: float,\n",
       "  15: 19,\n",
       "  16: int,\n",
       "  18: 'Bruce Lee',\n",
       "  24: 0.32,\n",
       "  25: 0.384,\n",
       "  27: 'Grace Hopper',\n",
       "  28: 2,\n",
       "  29: 2.0,\n",
       "  30: '11',\n",
       "  32: ['In',\n",
       "   'Out',\n",
       "   '_',\n",
       "   '_12',\n",
       "   '_13',\n",
       "   '_15',\n",
       "   '_16',\n",
       "   '_18',\n",
       "   '_2',\n",
       "   '_24',\n",
       "   '_25',\n",
       "   '_27',\n",
       "   '_28',\n",
       "   '_29',\n",
       "   '_30',\n",
       "   '_4',\n",
       "   '_5',\n",
       "   '_8',\n",
       "   '_9',\n",
       "   '__',\n",
       "   '___',\n",
       "   '__builtin__',\n",
       "   '__builtins__',\n",
       "   '__doc__',\n",
       "   '__loader__',\n",
       "   '__name__',\n",
       "   '__package__',\n",
       "   '__session__',\n",
       "   '__spec__',\n",
       "   '_dh',\n",
       "   '_i',\n",
       "   '_i1',\n",
       "   '_i10',\n",
       "   '_i11',\n",
       "   '_i12',\n",
       "   '_i13',\n",
       "   '_i14',\n",
       "   '_i15',\n",
       "   '_i16',\n",
       "   '_i17',\n",
       "   '_i18',\n",
       "   '_i19',\n",
       "   '_i2',\n",
       "   '_i20',\n",
       "   '_i21',\n",
       "   '_i22',\n",
       "   '_i23',\n",
       "   '_i24',\n",
       "   '_i25',\n",
       "   '_i26',\n",
       "   '_i27',\n",
       "   '_i28',\n",
       "   '_i29',\n",
       "   '_i3',\n",
       "   '_i30',\n",
       "   '_i31',\n",
       "   '_i32',\n",
       "   '_i4',\n",
       "   '_i5',\n",
       "   '_i6',\n",
       "   '_i7',\n",
       "   '_i8',\n",
       "   '_i9',\n",
       "   '_ih',\n",
       "   '_ii',\n",
       "   '_iii',\n",
       "   '_oh',\n",
       "   'apple',\n",
       "   'cost',\n",
       "   'cpo',\n",
       "   'exit',\n",
       "   'get_ipython',\n",
       "   'open',\n",
       "   'quit',\n",
       "   't',\n",
       "   'thing',\n",
       "   'year'],\n",
       "  34: ['In',\n",
       "   'Out',\n",
       "   '_',\n",
       "   '_12',\n",
       "   '_13',\n",
       "   '_15',\n",
       "   '_16',\n",
       "   '_18',\n",
       "   '_2',\n",
       "   '_24',\n",
       "   '_25',\n",
       "   '_27',\n",
       "   '_28',\n",
       "   '_29',\n",
       "   '_30',\n",
       "   '_32',\n",
       "   '_4',\n",
       "   '_5',\n",
       "   '_8',\n",
       "   '_9',\n",
       "   '__',\n",
       "   '___',\n",
       "   '__builtin__',\n",
       "   '__builtins__',\n",
       "   '__doc__',\n",
       "   '__loader__',\n",
       "   '__name__',\n",
       "   '__package__',\n",
       "   '__session__',\n",
       "   '__spec__',\n",
       "   '_dh',\n",
       "   '_i',\n",
       "   '_i1',\n",
       "   '_i10',\n",
       "   '_i11',\n",
       "   '_i12',\n",
       "   '_i13',\n",
       "   '_i14',\n",
       "   '_i15',\n",
       "   '_i16',\n",
       "   '_i17',\n",
       "   '_i18',\n",
       "   '_i19',\n",
       "   '_i2',\n",
       "   '_i20',\n",
       "   '_i21',\n",
       "   '_i22',\n",
       "   '_i23',\n",
       "   '_i24',\n",
       "   '_i25',\n",
       "   '_i26',\n",
       "   '_i27',\n",
       "   '_i28',\n",
       "   '_i29',\n",
       "   '_i3',\n",
       "   '_i30',\n",
       "   '_i31',\n",
       "   '_i32',\n",
       "   '_i33',\n",
       "   '_i34',\n",
       "   '_i4',\n",
       "   '_i5',\n",
       "   '_i6',\n",
       "   '_i7',\n",
       "   '_i8',\n",
       "   '_i9',\n",
       "   '_ih',\n",
       "   '_ii',\n",
       "   '_iii',\n",
       "   '_oh',\n",
       "   'apple',\n",
       "   'cost',\n",
       "   'cpo',\n",
       "   'exit',\n",
       "   'gazornin',\n",
       "   'get_ipython',\n",
       "   'open',\n",
       "   'quit',\n",
       "   't',\n",
       "   'thing',\n",
       "   'year'],\n",
       "  35: 5,\n",
       "  37: ['In',\n",
       "   'Out',\n",
       "   '_',\n",
       "   '_12',\n",
       "   '_13',\n",
       "   '_15',\n",
       "   '_16',\n",
       "   '_18',\n",
       "   '_2',\n",
       "   '_24',\n",
       "   '_25',\n",
       "   '_27',\n",
       "   '_28',\n",
       "   '_29',\n",
       "   '_30',\n",
       "   '_32',\n",
       "   '_34',\n",
       "   '_35',\n",
       "   '_4',\n",
       "   '_5',\n",
       "   '_8',\n",
       "   '_9',\n",
       "   '__',\n",
       "   '___',\n",
       "   '__builtin__',\n",
       "   '__builtins__',\n",
       "   '__doc__',\n",
       "   '__loader__',\n",
       "   '__name__',\n",
       "   '__package__',\n",
       "   '__session__',\n",
       "   '__spec__',\n",
       "   '_dh',\n",
       "   '_i',\n",
       "   '_i1',\n",
       "   '_i10',\n",
       "   '_i11',\n",
       "   '_i12',\n",
       "   '_i13',\n",
       "   '_i14',\n",
       "   '_i15',\n",
       "   '_i16',\n",
       "   '_i17',\n",
       "   '_i18',\n",
       "   '_i19',\n",
       "   '_i2',\n",
       "   '_i20',\n",
       "   '_i21',\n",
       "   '_i22',\n",
       "   '_i23',\n",
       "   '_i24',\n",
       "   '_i25',\n",
       "   '_i26',\n",
       "   '_i27',\n",
       "   '_i28',\n",
       "   '_i29',\n",
       "   '_i3',\n",
       "   '_i30',\n",
       "   '_i31',\n",
       "   '_i32',\n",
       "   '_i33',\n",
       "   '_i34',\n",
       "   '_i35',\n",
       "   '_i36',\n",
       "   '_i37',\n",
       "   '_i4',\n",
       "   '_i5',\n",
       "   '_i6',\n",
       "   '_i7',\n",
       "   '_i8',\n",
       "   '_i9',\n",
       "   '_ih',\n",
       "   '_ii',\n",
       "   '_iii',\n",
       "   '_oh',\n",
       "   'apple',\n",
       "   'cost',\n",
       "   'cpo',\n",
       "   'exit',\n",
       "   'gazornin',\n",
       "   'get_ipython',\n",
       "   'math',\n",
       "   'open',\n",
       "   'quit',\n",
       "   't',\n",
       "   'thing',\n",
       "   'year'],\n",
       "  38: ['__doc__',\n",
       "   '__file__',\n",
       "   '__loader__',\n",
       "   '__name__',\n",
       "   '__package__',\n",
       "   '__spec__',\n",
       "   'acos',\n",
       "   'acosh',\n",
       "   'asin',\n",
       "   'asinh',\n",
       "   'atan',\n",
       "   'atan2',\n",
       "   'atanh',\n",
       "   'cbrt',\n",
       "   'ceil',\n",
       "   'comb',\n",
       "   'copysign',\n",
       "   'cos',\n",
       "   'cosh',\n",
       "   'degrees',\n",
       "   'dist',\n",
       "   'e',\n",
       "   'erf',\n",
       "   'erfc',\n",
       "   'exp',\n",
       "   'exp2',\n",
       "   'expm1',\n",
       "   'fabs',\n",
       "   'factorial',\n",
       "   'floor',\n",
       "   'fmod',\n",
       "   'frexp',\n",
       "   'fsum',\n",
       "   'gamma',\n",
       "   'gcd',\n",
       "   'hypot',\n",
       "   'inf',\n",
       "   'isclose',\n",
       "   'isfinite',\n",
       "   'isinf',\n",
       "   'isnan',\n",
       "   'isqrt',\n",
       "   'lcm',\n",
       "   'ldexp',\n",
       "   'lgamma',\n",
       "   'log',\n",
       "   'log10',\n",
       "   'log1p',\n",
       "   'log2',\n",
       "   'modf',\n",
       "   'nan',\n",
       "   'nextafter',\n",
       "   'perm',\n",
       "   'pi',\n",
       "   'pow',\n",
       "   'prod',\n",
       "   'radians',\n",
       "   'remainder',\n",
       "   'sin',\n",
       "   'sinh',\n",
       "   'sqrt',\n",
       "   'sumprod',\n",
       "   'tan',\n",
       "   'tanh',\n",
       "   'tau',\n",
       "   'trunc',\n",
       "   'ulp'],\n",
       "  39: builtin_function_or_method,\n",
       "  40: float,\n",
       "  43: builtin_function_or_method,\n",
       "  44: module,\n",
       "  45: type,\n",
       "  46: builtin_function_or_method,\n",
       "  47: ['False',\n",
       "   'None',\n",
       "   'True',\n",
       "   'and',\n",
       "   'as',\n",
       "   'assert',\n",
       "   'async',\n",
       "   'await',\n",
       "   'break',\n",
       "   'class',\n",
       "   'continue',\n",
       "   'def',\n",
       "   'del',\n",
       "   'elif',\n",
       "   'else',\n",
       "   'except',\n",
       "   'finally',\n",
       "   'for',\n",
       "   'from',\n",
       "   'global',\n",
       "   'if',\n",
       "   'import',\n",
       "   'in',\n",
       "   'is',\n",
       "   'lambda',\n",
       "   'nonlocal',\n",
       "   'not',\n",
       "   'or',\n",
       "   'pass',\n",
       "   'raise',\n",
       "   'return',\n",
       "   'try',\n",
       "   'while',\n",
       "   'with',\n",
       "   'yield']},\n",
       " '_dh': [PosixPath('/Users/dave-wadestein/Downloads/Python-Fundamentals-main')],\n",
       " 'In': ['',\n",
       "  \"print('Hello, world!')\",\n",
       "  '3 + 19',\n",
       "  'cost = 19.95',\n",
       "  'cost',\n",
       "  'type(cost)',\n",
       "  'cost = 19',\n",
       "  'cost = 19 # int',\n",
       "  'cost',\n",
       "  'type(cost)',\n",
       "  'cost = 19.95 # float',\n",
       "  'cost = 19.95 # float',\n",
       "  'cost',\n",
       "  'type(cost)',\n",
       "  'cost = 19 # int',\n",
       "  'cost',\n",
       "  'type(cost)',\n",
       "  \"cost = 'Bruce Lee' # str(ing)\",\n",
       "  'cost',\n",
       "  'cost * 1.09',\n",
       "  'apple = 19.95',\n",
       "  'thing = 19.95',\n",
       "  't = 19.95',\n",
       "  'cpo = 0.32',\n",
       "  'cpo',\n",
       "  'cpo * 1.2',\n",
       "  \"print('Cost per ounce =', cpo)\",\n",
       "  \"'Grace' + ' ' + 'Hopper'\",\n",
       "  '1 + 1',\n",
       "  '1.0 + 1.0 ',\n",
       "  \"'1' + '1'\",\n",
       "  'year = 2024',\n",
       "  'dir()',\n",
       "  'gazornin = 34.56',\n",
       "  'dir()',\n",
       "  '2 + 3',\n",
       "  'import math',\n",
       "  'dir()',\n",
       "  'dir(math)',\n",
       "  'type(math.cos)',\n",
       "  'type(math.pi)',\n",
       "  'help(math)',\n",
       "  'help(math.factorial)',\n",
       "  'type(dir)',\n",
       "  'type(math)',\n",
       "  'type(type)',\n",
       "  'type(print)',\n",
       "  'import keyword\\nkeyword.kwlist',\n",
       "  'raise = 22',\n",
       "  'raised = 22',\n",
       "  'globals()'],\n",
       " 'Out': {2: 22,\n",
       "  4: 19.95,\n",
       "  5: float,\n",
       "  8: 19,\n",
       "  9: int,\n",
       "  12: 19.95,\n",
       "  13: float,\n",
       "  15: 19,\n",
       "  16: int,\n",
       "  18: 'Bruce Lee',\n",
       "  24: 0.32,\n",
       "  25: 0.384,\n",
       "  27: 'Grace Hopper',\n",
       "  28: 2,\n",
       "  29: 2.0,\n",
       "  30: '11',\n",
       "  32: ['In',\n",
       "   'Out',\n",
       "   '_',\n",
       "   '_12',\n",
       "   '_13',\n",
       "   '_15',\n",
       "   '_16',\n",
       "   '_18',\n",
       "   '_2',\n",
       "   '_24',\n",
       "   '_25',\n",
       "   '_27',\n",
       "   '_28',\n",
       "   '_29',\n",
       "   '_30',\n",
       "   '_4',\n",
       "   '_5',\n",
       "   '_8',\n",
       "   '_9',\n",
       "   '__',\n",
       "   '___',\n",
       "   '__builtin__',\n",
       "   '__builtins__',\n",
       "   '__doc__',\n",
       "   '__loader__',\n",
       "   '__name__',\n",
       "   '__package__',\n",
       "   '__session__',\n",
       "   '__spec__',\n",
       "   '_dh',\n",
       "   '_i',\n",
       "   '_i1',\n",
       "   '_i10',\n",
       "   '_i11',\n",
       "   '_i12',\n",
       "   '_i13',\n",
       "   '_i14',\n",
       "   '_i15',\n",
       "   '_i16',\n",
       "   '_i17',\n",
       "   '_i18',\n",
       "   '_i19',\n",
       "   '_i2',\n",
       "   '_i20',\n",
       "   '_i21',\n",
       "   '_i22',\n",
       "   '_i23',\n",
       "   '_i24',\n",
       "   '_i25',\n",
       "   '_i26',\n",
       "   '_i27',\n",
       "   '_i28',\n",
       "   '_i29',\n",
       "   '_i3',\n",
       "   '_i30',\n",
       "   '_i31',\n",
       "   '_i32',\n",
       "   '_i4',\n",
       "   '_i5',\n",
       "   '_i6',\n",
       "   '_i7',\n",
       "   '_i8',\n",
       "   '_i9',\n",
       "   '_ih',\n",
       "   '_ii',\n",
       "   '_iii',\n",
       "   '_oh',\n",
       "   'apple',\n",
       "   'cost',\n",
       "   'cpo',\n",
       "   'exit',\n",
       "   'get_ipython',\n",
       "   'open',\n",
       "   'quit',\n",
       "   't',\n",
       "   'thing',\n",
       "   'year'],\n",
       "  34: ['In',\n",
       "   'Out',\n",
       "   '_',\n",
       "   '_12',\n",
       "   '_13',\n",
       "   '_15',\n",
       "   '_16',\n",
       "   '_18',\n",
       "   '_2',\n",
       "   '_24',\n",
       "   '_25',\n",
       "   '_27',\n",
       "   '_28',\n",
       "   '_29',\n",
       "   '_30',\n",
       "   '_32',\n",
       "   '_4',\n",
       "   '_5',\n",
       "   '_8',\n",
       "   '_9',\n",
       "   '__',\n",
       "   '___',\n",
       "   '__builtin__',\n",
       "   '__builtins__',\n",
       "   '__doc__',\n",
       "   '__loader__',\n",
       "   '__name__',\n",
       "   '__package__',\n",
       "   '__session__',\n",
       "   '__spec__',\n",
       "   '_dh',\n",
       "   '_i',\n",
       "   '_i1',\n",
       "   '_i10',\n",
       "   '_i11',\n",
       "   '_i12',\n",
       "   '_i13',\n",
       "   '_i14',\n",
       "   '_i15',\n",
       "   '_i16',\n",
       "   '_i17',\n",
       "   '_i18',\n",
       "   '_i19',\n",
       "   '_i2',\n",
       "   '_i20',\n",
       "   '_i21',\n",
       "   '_i22',\n",
       "   '_i23',\n",
       "   '_i24',\n",
       "   '_i25',\n",
       "   '_i26',\n",
       "   '_i27',\n",
       "   '_i28',\n",
       "   '_i29',\n",
       "   '_i3',\n",
       "   '_i30',\n",
       "   '_i31',\n",
       "   '_i32',\n",
       "   '_i33',\n",
       "   '_i34',\n",
       "   '_i4',\n",
       "   '_i5',\n",
       "   '_i6',\n",
       "   '_i7',\n",
       "   '_i8',\n",
       "   '_i9',\n",
       "   '_ih',\n",
       "   '_ii',\n",
       "   '_iii',\n",
       "   '_oh',\n",
       "   'apple',\n",
       "   'cost',\n",
       "   'cpo',\n",
       "   'exit',\n",
       "   'gazornin',\n",
       "   'get_ipython',\n",
       "   'open',\n",
       "   'quit',\n",
       "   't',\n",
       "   'thing',\n",
       "   'year'],\n",
       "  35: 5,\n",
       "  37: ['In',\n",
       "   'Out',\n",
       "   '_',\n",
       "   '_12',\n",
       "   '_13',\n",
       "   '_15',\n",
       "   '_16',\n",
       "   '_18',\n",
       "   '_2',\n",
       "   '_24',\n",
       "   '_25',\n",
       "   '_27',\n",
       "   '_28',\n",
       "   '_29',\n",
       "   '_30',\n",
       "   '_32',\n",
       "   '_34',\n",
       "   '_35',\n",
       "   '_4',\n",
       "   '_5',\n",
       "   '_8',\n",
       "   '_9',\n",
       "   '__',\n",
       "   '___',\n",
       "   '__builtin__',\n",
       "   '__builtins__',\n",
       "   '__doc__',\n",
       "   '__loader__',\n",
       "   '__name__',\n",
       "   '__package__',\n",
       "   '__session__',\n",
       "   '__spec__',\n",
       "   '_dh',\n",
       "   '_i',\n",
       "   '_i1',\n",
       "   '_i10',\n",
       "   '_i11',\n",
       "   '_i12',\n",
       "   '_i13',\n",
       "   '_i14',\n",
       "   '_i15',\n",
       "   '_i16',\n",
       "   '_i17',\n",
       "   '_i18',\n",
       "   '_i19',\n",
       "   '_i2',\n",
       "   '_i20',\n",
       "   '_i21',\n",
       "   '_i22',\n",
       "   '_i23',\n",
       "   '_i24',\n",
       "   '_i25',\n",
       "   '_i26',\n",
       "   '_i27',\n",
       "   '_i28',\n",
       "   '_i29',\n",
       "   '_i3',\n",
       "   '_i30',\n",
       "   '_i31',\n",
       "   '_i32',\n",
       "   '_i33',\n",
       "   '_i34',\n",
       "   '_i35',\n",
       "   '_i36',\n",
       "   '_i37',\n",
       "   '_i4',\n",
       "   '_i5',\n",
       "   '_i6',\n",
       "   '_i7',\n",
       "   '_i8',\n",
       "   '_i9',\n",
       "   '_ih',\n",
       "   '_ii',\n",
       "   '_iii',\n",
       "   '_oh',\n",
       "   'apple',\n",
       "   'cost',\n",
       "   'cpo',\n",
       "   'exit',\n",
       "   'gazornin',\n",
       "   'get_ipython',\n",
       "   'math',\n",
       "   'open',\n",
       "   'quit',\n",
       "   't',\n",
       "   'thing',\n",
       "   'year'],\n",
       "  38: ['__doc__',\n",
       "   '__file__',\n",
       "   '__loader__',\n",
       "   '__name__',\n",
       "   '__package__',\n",
       "   '__spec__',\n",
       "   'acos',\n",
       "   'acosh',\n",
       "   'asin',\n",
       "   'asinh',\n",
       "   'atan',\n",
       "   'atan2',\n",
       "   'atanh',\n",
       "   'cbrt',\n",
       "   'ceil',\n",
       "   'comb',\n",
       "   'copysign',\n",
       "   'cos',\n",
       "   'cosh',\n",
       "   'degrees',\n",
       "   'dist',\n",
       "   'e',\n",
       "   'erf',\n",
       "   'erfc',\n",
       "   'exp',\n",
       "   'exp2',\n",
       "   'expm1',\n",
       "   'fabs',\n",
       "   'factorial',\n",
       "   'floor',\n",
       "   'fmod',\n",
       "   'frexp',\n",
       "   'fsum',\n",
       "   'gamma',\n",
       "   'gcd',\n",
       "   'hypot',\n",
       "   'inf',\n",
       "   'isclose',\n",
       "   'isfinite',\n",
       "   'isinf',\n",
       "   'isnan',\n",
       "   'isqrt',\n",
       "   'lcm',\n",
       "   'ldexp',\n",
       "   'lgamma',\n",
       "   'log',\n",
       "   'log10',\n",
       "   'log1p',\n",
       "   'log2',\n",
       "   'modf',\n",
       "   'nan',\n",
       "   'nextafter',\n",
       "   'perm',\n",
       "   'pi',\n",
       "   'pow',\n",
       "   'prod',\n",
       "   'radians',\n",
       "   'remainder',\n",
       "   'sin',\n",
       "   'sinh',\n",
       "   'sqrt',\n",
       "   'sumprod',\n",
       "   'tan',\n",
       "   'tanh',\n",
       "   'tau',\n",
       "   'trunc',\n",
       "   'ulp'],\n",
       "  39: builtin_function_or_method,\n",
       "  40: float,\n",
       "  43: builtin_function_or_method,\n",
       "  44: module,\n",
       "  45: type,\n",
       "  46: builtin_function_or_method,\n",
       "  47: ['False',\n",
       "   'None',\n",
       "   'True',\n",
       "   'and',\n",
       "   'as',\n",
       "   'assert',\n",
       "   'async',\n",
       "   'await',\n",
       "   'break',\n",
       "   'class',\n",
       "   'continue',\n",
       "   'def',\n",
       "   'del',\n",
       "   'elif',\n",
       "   'else',\n",
       "   'except',\n",
       "   'finally',\n",
       "   'for',\n",
       "   'from',\n",
       "   'global',\n",
       "   'if',\n",
       "   'import',\n",
       "   'in',\n",
       "   'is',\n",
       "   'lambda',\n",
       "   'nonlocal',\n",
       "   'not',\n",
       "   'or',\n",
       "   'pass',\n",
       "   'raise',\n",
       "   'return',\n",
       "   'try',\n",
       "   'while',\n",
       "   'with',\n",
       "   'yield']},\n",
       " 'get_ipython': <bound method InteractiveShell.get_ipython of <ipykernel.zmqshell.ZMQInteractiveShell object at 0x100475520>>,\n",
       " 'exit': <IPython.core.autocall.ZMQExitAutocall at 0x10454c650>,\n",
       " 'quit': <IPython.core.autocall.ZMQExitAutocall at 0x10454c650>,\n",
       " 'open': <function _io.open(file, mode='r', buffering=-1, encoding=None, errors=None, newline=None, closefd=True, opener=None)>,\n",
       " '_': ['False',\n",
       "  'None',\n",
       "  'True',\n",
       "  'and',\n",
       "  'as',\n",
       "  'assert',\n",
       "  'async',\n",
       "  'await',\n",
       "  'break',\n",
       "  'class',\n",
       "  'continue',\n",
       "  'def',\n",
       "  'del',\n",
       "  'elif',\n",
       "  'else',\n",
       "  'except',\n",
       "  'finally',\n",
       "  'for',\n",
       "  'from',\n",
       "  'global',\n",
       "  'if',\n",
       "  'import',\n",
       "  'in',\n",
       "  'is',\n",
       "  'lambda',\n",
       "  'nonlocal',\n",
       "  'not',\n",
       "  'or',\n",
       "  'pass',\n",
       "  'raise',\n",
       "  'return',\n",
       "  'try',\n",
       "  'while',\n",
       "  'with',\n",
       "  'yield'],\n",
       " '__': builtin_function_or_method,\n",
       " '___': type,\n",
       " '__session__': '/Users/dave-wadestein/Downloads/Python-Fundamentals-main/Untitled.ipynb',\n",
       " '_i': 'raised = 22',\n",
       " '_ii': 'raise = 22',\n",
       " '_iii': 'import keyword\\nkeyword.kwlist',\n",
       " '_i1': \"print('Hello, world!')\",\n",
       " '_i2': '3 + 19',\n",
       " '_2': 22,\n",
       " '_i3': 'cost = 19.95',\n",
       " 'cost': 'Bruce Lee',\n",
       " '_i4': 'cost',\n",
       " '_4': 19.95,\n",
       " '_i5': 'type(cost)',\n",
       " '_5': float,\n",
       " '_i6': 'cost = 19',\n",
       " '_i7': 'cost = 19 # int',\n",
       " '_i8': 'cost',\n",
       " '_8': 19,\n",
       " '_i9': 'type(cost)',\n",
       " '_9': int,\n",
       " '_i10': 'cost = 19.95 # float',\n",
       " '_i11': 'cost = 19.95 # float',\n",
       " '_i12': 'cost',\n",
       " '_12': 19.95,\n",
       " '_i13': 'type(cost)',\n",
       " '_13': float,\n",
       " '_i14': 'cost = 19 # int',\n",
       " '_i15': 'cost',\n",
       " '_15': 19,\n",
       " '_i16': 'type(cost)',\n",
       " '_16': int,\n",
       " '_i17': \"cost = 'Bruce Lee' # str(ing)\",\n",
       " '_i18': 'cost',\n",
       " '_18': 'Bruce Lee',\n",
       " '_i19': 'cost * 1.09',\n",
       " '_i20': 'apple = 19.95',\n",
       " 'apple': 19.95,\n",
       " '_i21': 'thing = 19.95',\n",
       " 'thing': 19.95,\n",
       " '_i22': 't = 19.95',\n",
       " 't': 19.95,\n",
       " '_i23': 'cpo = 0.32',\n",
       " 'cpo': 0.32,\n",
       " '_i24': 'cpo',\n",
       " '_24': 0.32,\n",
       " '_i25': 'cpo * 1.2',\n",
       " '_25': 0.384,\n",
       " '_i26': \"print('Cost per ounce =', cpo)\",\n",
       " '_i27': \"'Grace' + ' ' + 'Hopper'\",\n",
       " '_27': 'Grace Hopper',\n",
       " '_i28': '1 + 1',\n",
       " '_28': 2,\n",
       " '_i29': '1.0 + 1.0 ',\n",
       " '_29': 2.0,\n",
       " '_i30': \"'1' + '1'\",\n",
       " '_30': '11',\n",
       " '_i31': 'year = 2024',\n",
       " 'year': 2024,\n",
       " '_i32': 'dir()',\n",
       " '_32': ['In',\n",
       "  'Out',\n",
       "  '_',\n",
       "  '_12',\n",
       "  '_13',\n",
       "  '_15',\n",
       "  '_16',\n",
       "  '_18',\n",
       "  '_2',\n",
       "  '_24',\n",
       "  '_25',\n",
       "  '_27',\n",
       "  '_28',\n",
       "  '_29',\n",
       "  '_30',\n",
       "  '_4',\n",
       "  '_5',\n",
       "  '_8',\n",
       "  '_9',\n",
       "  '__',\n",
       "  '___',\n",
       "  '__builtin__',\n",
       "  '__builtins__',\n",
       "  '__doc__',\n",
       "  '__loader__',\n",
       "  '__name__',\n",
       "  '__package__',\n",
       "  '__session__',\n",
       "  '__spec__',\n",
       "  '_dh',\n",
       "  '_i',\n",
       "  '_i1',\n",
       "  '_i10',\n",
       "  '_i11',\n",
       "  '_i12',\n",
       "  '_i13',\n",
       "  '_i14',\n",
       "  '_i15',\n",
       "  '_i16',\n",
       "  '_i17',\n",
       "  '_i18',\n",
       "  '_i19',\n",
       "  '_i2',\n",
       "  '_i20',\n",
       "  '_i21',\n",
       "  '_i22',\n",
       "  '_i23',\n",
       "  '_i24',\n",
       "  '_i25',\n",
       "  '_i26',\n",
       "  '_i27',\n",
       "  '_i28',\n",
       "  '_i29',\n",
       "  '_i3',\n",
       "  '_i30',\n",
       "  '_i31',\n",
       "  '_i32',\n",
       "  '_i4',\n",
       "  '_i5',\n",
       "  '_i6',\n",
       "  '_i7',\n",
       "  '_i8',\n",
       "  '_i9',\n",
       "  '_ih',\n",
       "  '_ii',\n",
       "  '_iii',\n",
       "  '_oh',\n",
       "  'apple',\n",
       "  'cost',\n",
       "  'cpo',\n",
       "  'exit',\n",
       "  'get_ipython',\n",
       "  'open',\n",
       "  'quit',\n",
       "  't',\n",
       "  'thing',\n",
       "  'year'],\n",
       " '_i33': 'gazornin = 34.56',\n",
       " 'gazornin': 34.56,\n",
       " '_i34': 'dir()',\n",
       " '_34': ['In',\n",
       "  'Out',\n",
       "  '_',\n",
       "  '_12',\n",
       "  '_13',\n",
       "  '_15',\n",
       "  '_16',\n",
       "  '_18',\n",
       "  '_2',\n",
       "  '_24',\n",
       "  '_25',\n",
       "  '_27',\n",
       "  '_28',\n",
       "  '_29',\n",
       "  '_30',\n",
       "  '_32',\n",
       "  '_4',\n",
       "  '_5',\n",
       "  '_8',\n",
       "  '_9',\n",
       "  '__',\n",
       "  '___',\n",
       "  '__builtin__',\n",
       "  '__builtins__',\n",
       "  '__doc__',\n",
       "  '__loader__',\n",
       "  '__name__',\n",
       "  '__package__',\n",
       "  '__session__',\n",
       "  '__spec__',\n",
       "  '_dh',\n",
       "  '_i',\n",
       "  '_i1',\n",
       "  '_i10',\n",
       "  '_i11',\n",
       "  '_i12',\n",
       "  '_i13',\n",
       "  '_i14',\n",
       "  '_i15',\n",
       "  '_i16',\n",
       "  '_i17',\n",
       "  '_i18',\n",
       "  '_i19',\n",
       "  '_i2',\n",
       "  '_i20',\n",
       "  '_i21',\n",
       "  '_i22',\n",
       "  '_i23',\n",
       "  '_i24',\n",
       "  '_i25',\n",
       "  '_i26',\n",
       "  '_i27',\n",
       "  '_i28',\n",
       "  '_i29',\n",
       "  '_i3',\n",
       "  '_i30',\n",
       "  '_i31',\n",
       "  '_i32',\n",
       "  '_i33',\n",
       "  '_i34',\n",
       "  '_i4',\n",
       "  '_i5',\n",
       "  '_i6',\n",
       "  '_i7',\n",
       "  '_i8',\n",
       "  '_i9',\n",
       "  '_ih',\n",
       "  '_ii',\n",
       "  '_iii',\n",
       "  '_oh',\n",
       "  'apple',\n",
       "  'cost',\n",
       "  'cpo',\n",
       "  'exit',\n",
       "  'gazornin',\n",
       "  'get_ipython',\n",
       "  'open',\n",
       "  'quit',\n",
       "  't',\n",
       "  'thing',\n",
       "  'year'],\n",
       " '_i35': '2 + 3',\n",
       " '_35': 5,\n",
       " '_i36': 'import math',\n",
       " 'math': <module 'math' from '/Library/Frameworks/Python.framework/Versions/3.12/lib/python3.12/lib-dynload/math.cpython-312-darwin.so'>,\n",
       " '_i37': 'dir()',\n",
       " '_37': ['In',\n",
       "  'Out',\n",
       "  '_',\n",
       "  '_12',\n",
       "  '_13',\n",
       "  '_15',\n",
       "  '_16',\n",
       "  '_18',\n",
       "  '_2',\n",
       "  '_24',\n",
       "  '_25',\n",
       "  '_27',\n",
       "  '_28',\n",
       "  '_29',\n",
       "  '_30',\n",
       "  '_32',\n",
       "  '_34',\n",
       "  '_35',\n",
       "  '_4',\n",
       "  '_5',\n",
       "  '_8',\n",
       "  '_9',\n",
       "  '__',\n",
       "  '___',\n",
       "  '__builtin__',\n",
       "  '__builtins__',\n",
       "  '__doc__',\n",
       "  '__loader__',\n",
       "  '__name__',\n",
       "  '__package__',\n",
       "  '__session__',\n",
       "  '__spec__',\n",
       "  '_dh',\n",
       "  '_i',\n",
       "  '_i1',\n",
       "  '_i10',\n",
       "  '_i11',\n",
       "  '_i12',\n",
       "  '_i13',\n",
       "  '_i14',\n",
       "  '_i15',\n",
       "  '_i16',\n",
       "  '_i17',\n",
       "  '_i18',\n",
       "  '_i19',\n",
       "  '_i2',\n",
       "  '_i20',\n",
       "  '_i21',\n",
       "  '_i22',\n",
       "  '_i23',\n",
       "  '_i24',\n",
       "  '_i25',\n",
       "  '_i26',\n",
       "  '_i27',\n",
       "  '_i28',\n",
       "  '_i29',\n",
       "  '_i3',\n",
       "  '_i30',\n",
       "  '_i31',\n",
       "  '_i32',\n",
       "  '_i33',\n",
       "  '_i34',\n",
       "  '_i35',\n",
       "  '_i36',\n",
       "  '_i37',\n",
       "  '_i4',\n",
       "  '_i5',\n",
       "  '_i6',\n",
       "  '_i7',\n",
       "  '_i8',\n",
       "  '_i9',\n",
       "  '_ih',\n",
       "  '_ii',\n",
       "  '_iii',\n",
       "  '_oh',\n",
       "  'apple',\n",
       "  'cost',\n",
       "  'cpo',\n",
       "  'exit',\n",
       "  'gazornin',\n",
       "  'get_ipython',\n",
       "  'math',\n",
       "  'open',\n",
       "  'quit',\n",
       "  't',\n",
       "  'thing',\n",
       "  'year'],\n",
       " '_i38': 'dir(math)',\n",
       " '_38': ['__doc__',\n",
       "  '__file__',\n",
       "  '__loader__',\n",
       "  '__name__',\n",
       "  '__package__',\n",
       "  '__spec__',\n",
       "  'acos',\n",
       "  'acosh',\n",
       "  'asin',\n",
       "  'asinh',\n",
       "  'atan',\n",
       "  'atan2',\n",
       "  'atanh',\n",
       "  'cbrt',\n",
       "  'ceil',\n",
       "  'comb',\n",
       "  'copysign',\n",
       "  'cos',\n",
       "  'cosh',\n",
       "  'degrees',\n",
       "  'dist',\n",
       "  'e',\n",
       "  'erf',\n",
       "  'erfc',\n",
       "  'exp',\n",
       "  'exp2',\n",
       "  'expm1',\n",
       "  'fabs',\n",
       "  'factorial',\n",
       "  'floor',\n",
       "  'fmod',\n",
       "  'frexp',\n",
       "  'fsum',\n",
       "  'gamma',\n",
       "  'gcd',\n",
       "  'hypot',\n",
       "  'inf',\n",
       "  'isclose',\n",
       "  'isfinite',\n",
       "  'isinf',\n",
       "  'isnan',\n",
       "  'isqrt',\n",
       "  'lcm',\n",
       "  'ldexp',\n",
       "  'lgamma',\n",
       "  'log',\n",
       "  'log10',\n",
       "  'log1p',\n",
       "  'log2',\n",
       "  'modf',\n",
       "  'nan',\n",
       "  'nextafter',\n",
       "  'perm',\n",
       "  'pi',\n",
       "  'pow',\n",
       "  'prod',\n",
       "  'radians',\n",
       "  'remainder',\n",
       "  'sin',\n",
       "  'sinh',\n",
       "  'sqrt',\n",
       "  'sumprod',\n",
       "  'tan',\n",
       "  'tanh',\n",
       "  'tau',\n",
       "  'trunc',\n",
       "  'ulp'],\n",
       " '_i39': 'type(math.cos)',\n",
       " '_39': builtin_function_or_method,\n",
       " '_i40': 'type(math.pi)',\n",
       " '_40': float,\n",
       " '_i41': 'help(math)',\n",
       " '_i42': 'help(math.factorial)',\n",
       " '_i43': 'type(dir)',\n",
       " '_43': builtin_function_or_method,\n",
       " '_i44': 'type(math)',\n",
       " '_44': module,\n",
       " '_i45': 'type(type)',\n",
       " '_45': type,\n",
       " '_i46': 'type(print)',\n",
       " '_46': builtin_function_or_method,\n",
       " '_i47': 'import keyword\\nkeyword.kwlist',\n",
       " 'keyword': <module 'keyword' from '/Library/Frameworks/Python.framework/Versions/3.12/lib/python3.12/keyword.py'>,\n",
       " '_47': ['False',\n",
       "  'None',\n",
       "  'True',\n",
       "  'and',\n",
       "  'as',\n",
       "  'assert',\n",
       "  'async',\n",
       "  'await',\n",
       "  'break',\n",
       "  'class',\n",
       "  'continue',\n",
       "  'def',\n",
       "  'del',\n",
       "  'elif',\n",
       "  'else',\n",
       "  'except',\n",
       "  'finally',\n",
       "  'for',\n",
       "  'from',\n",
       "  'global',\n",
       "  'if',\n",
       "  'import',\n",
       "  'in',\n",
       "  'is',\n",
       "  'lambda',\n",
       "  'nonlocal',\n",
       "  'not',\n",
       "  'or',\n",
       "  'pass',\n",
       "  'raise',\n",
       "  'return',\n",
       "  'try',\n",
       "  'while',\n",
       "  'with',\n",
       "  'yield'],\n",
       " '_i48': 'raise = 22',\n",
       " '_i49': 'raised = 22',\n",
       " 'raised': 22,\n",
       " '_i50': 'globals()'}"
      ]
     },
     "execution_count": 50,
     "metadata": {},
     "output_type": "execute_result"
    }
   ],
   "source": [
    "globals()"
   ]
  },
  {
   "cell_type": "code",
   "execution_count": 51,
   "id": "8b86b2b4-8892-4685-8459-cc96e59bfd13",
   "metadata": {},
   "outputs": [
    {
     "data": {
      "text/plain": [
       "['In',\n",
       " 'Out',\n",
       " '_',\n",
       " '_12',\n",
       " '_13',\n",
       " '_15',\n",
       " '_16',\n",
       " '_18',\n",
       " '_2',\n",
       " '_24',\n",
       " '_25',\n",
       " '_27',\n",
       " '_28',\n",
       " '_29',\n",
       " '_30',\n",
       " '_32',\n",
       " '_34',\n",
       " '_35',\n",
       " '_37',\n",
       " '_38',\n",
       " '_39',\n",
       " '_4',\n",
       " '_40',\n",
       " '_43',\n",
       " '_44',\n",
       " '_45',\n",
       " '_46',\n",
       " '_47',\n",
       " '_5',\n",
       " '_50',\n",
       " '_8',\n",
       " '_9',\n",
       " '__',\n",
       " '___',\n",
       " '__builtin__',\n",
       " '__builtins__',\n",
       " '__doc__',\n",
       " '__loader__',\n",
       " '__name__',\n",
       " '__package__',\n",
       " '__session__',\n",
       " '__spec__',\n",
       " '_dh',\n",
       " '_i',\n",
       " '_i1',\n",
       " '_i10',\n",
       " '_i11',\n",
       " '_i12',\n",
       " '_i13',\n",
       " '_i14',\n",
       " '_i15',\n",
       " '_i16',\n",
       " '_i17',\n",
       " '_i18',\n",
       " '_i19',\n",
       " '_i2',\n",
       " '_i20',\n",
       " '_i21',\n",
       " '_i22',\n",
       " '_i23',\n",
       " '_i24',\n",
       " '_i25',\n",
       " '_i26',\n",
       " '_i27',\n",
       " '_i28',\n",
       " '_i29',\n",
       " '_i3',\n",
       " '_i30',\n",
       " '_i31',\n",
       " '_i32',\n",
       " '_i33',\n",
       " '_i34',\n",
       " '_i35',\n",
       " '_i36',\n",
       " '_i37',\n",
       " '_i38',\n",
       " '_i39',\n",
       " '_i4',\n",
       " '_i40',\n",
       " '_i41',\n",
       " '_i42',\n",
       " '_i43',\n",
       " '_i44',\n",
       " '_i45',\n",
       " '_i46',\n",
       " '_i47',\n",
       " '_i48',\n",
       " '_i49',\n",
       " '_i5',\n",
       " '_i50',\n",
       " '_i51',\n",
       " '_i6',\n",
       " '_i7',\n",
       " '_i8',\n",
       " '_i9',\n",
       " '_ih',\n",
       " '_ii',\n",
       " '_iii',\n",
       " '_oh',\n",
       " 'apple',\n",
       " 'cost',\n",
       " 'cpo',\n",
       " 'exit',\n",
       " 'gazornin',\n",
       " 'get_ipython',\n",
       " 'keyword',\n",
       " 'math',\n",
       " 'open',\n",
       " 'quit',\n",
       " 'raised',\n",
       " 't',\n",
       " 'thing',\n",
       " 'year']"
      ]
     },
     "execution_count": 51,
     "metadata": {},
     "output_type": "execute_result"
    }
   ],
   "source": [
    "dir()"
   ]
  },
  {
   "cell_type": "code",
   "execution_count": 54,
   "id": "88f57b21-8f4d-48c9-ad5c-e864aaaf3db0",
   "metadata": {},
   "outputs": [
    {
     "name": "stdout",
     "output_type": "stream",
     "text": [
      "Help on built-in function print in module builtins:\n",
      "\n",
      "print(*args, sep=' ', end='\\n', file=None, flush=False)\n",
      "    Prints the values to a stream, or to sys.stdout by default.\n",
      "\n",
      "    sep\n",
      "      string inserted between values, default a space.\n",
      "    end\n",
      "      string appended after the last value, default a newline.\n",
      "    file\n",
      "      a file-like object (stream); defaults to the current sys.stdout.\n",
      "    flush\n",
      "      whether to forcibly flush the stream.\n",
      "\n"
     ]
    }
   ],
   "source": [
    "help(print)"
   ]
  },
  {
   "cell_type": "code",
   "execution_count": 55,
   "id": "ce54ec8e-0d36-4888-9c92-07bae8f8413a",
   "metadata": {},
   "outputs": [
    {
     "data": {
      "text/plain": [
       "\"<module 'math' from '/Library/Frameworks/Python.framework/Versions/3.12/lib/python3.12/lib-dynload/math.cpython-312-darwin.so'>\""
      ]
     },
     "execution_count": 55,
     "metadata": {},
     "output_type": "execute_result"
    }
   ],
   "source": [
    "str(math)"
   ]
  },
  {
   "cell_type": "code",
   "execution_count": 56,
   "id": "ffbec4d0-e0ec-4f46-9f90-0fefea551b17",
   "metadata": {},
   "outputs": [
    {
     "data": {
      "text/plain": [
       "'<built-in function print>'"
      ]
     },
     "execution_count": 56,
     "metadata": {},
     "output_type": "execute_result"
    }
   ],
   "source": [
    "str(print)"
   ]
  },
  {
   "cell_type": "code",
   "execution_count": 57,
   "id": "775c57e0-5f5c-466f-92aa-e5ee68dac0ef",
   "metadata": {},
   "outputs": [
    {
     "data": {
      "text/plain": [
       "'5'"
      ]
     },
     "execution_count": 57,
     "metadata": {},
     "output_type": "execute_result"
    }
   ],
   "source": [
    "str(5)"
   ]
  },
  {
   "cell_type": "code",
   "execution_count": 58,
   "id": "31b355f1-4125-4127-8418-e746520b4727",
   "metadata": {},
   "outputs": [
    {
     "data": {
      "text/plain": [
       "1"
      ]
     },
     "execution_count": 58,
     "metadata": {},
     "output_type": "execute_result"
    }
   ],
   "source": [
    "int(1.33)"
   ]
  },
  {
   "cell_type": "code",
   "execution_count": 59,
   "id": "cdaa3c0d-3388-4a7c-a952-804be65620c4",
   "metadata": {},
   "outputs": [
    {
     "data": {
      "text/plain": [
       "1"
      ]
     },
     "execution_count": 59,
     "metadata": {},
     "output_type": "execute_result"
    }
   ],
   "source": [
    "int(1.78)"
   ]
  },
  {
   "cell_type": "code",
   "execution_count": 61,
   "id": "2de330b8-f28c-4fd2-8252-0487d5662a81",
   "metadata": {},
   "outputs": [
    {
     "data": {
      "text/plain": [
       "123"
      ]
     },
     "execution_count": 61,
     "metadata": {},
     "output_type": "execute_result"
    }
   ],
   "source": [
    "int('    123   ')"
   ]
  },
  {
   "cell_type": "code",
   "execution_count": 62,
   "id": "69cf69d5-c1da-4a69-862c-768cd96ef482",
   "metadata": {},
   "outputs": [],
   "source": [
    "first, last = 'Grace', 'Hopper'"
   ]
  },
  {
   "cell_type": "code",
   "execution_count": 63,
   "id": "2907f257-cf88-473f-a5bd-539c657422ae",
   "metadata": {},
   "outputs": [
    {
     "data": {
      "text/plain": [
       "'Grace'"
      ]
     },
     "execution_count": 63,
     "metadata": {},
     "output_type": "execute_result"
    }
   ],
   "source": [
    "first"
   ]
  },
  {
   "cell_type": "code",
   "execution_count": 64,
   "id": "9df9184b-83a1-4ac4-b182-fd0e1c48558a",
   "metadata": {},
   "outputs": [],
   "source": [
    "name, birth_year = 'Grace Hopper', 1906"
   ]
  },
  {
   "cell_type": "code",
   "execution_count": 65,
   "id": "0199196e-a0a2-4ef9-b6e8-22f7606566a6",
   "metadata": {},
   "outputs": [],
   "source": [
    "name = 'Grace Hopper'\n",
    "birth_year = 1906"
   ]
  },
  {
   "cell_type": "code",
   "execution_count": 75,
   "id": "fa86ee19-d787-4103-be9b-1fbb7167923a",
   "metadata": {},
   "outputs": [
    {
     "data": {
      "text/plain": [
       "'53.3'"
      ]
     },
     "execution_count": 75,
     "metadata": {},
     "output_type": "execute_result"
    }
   ],
   "source": [
    "str(53.3)"
   ]
  },
  {
   "cell_type": "code",
   "execution_count": 76,
   "id": "f749e35e-9a3c-43ff-aa3a-5eb1c83ce616",
   "metadata": {},
   "outputs": [
    {
     "data": {
      "text/plain": [
       "'False'"
      ]
     },
     "execution_count": 76,
     "metadata": {},
     "output_type": "execute_result"
    }
   ],
   "source": [
    "str(False)"
   ]
  },
  {
   "cell_type": "code",
   "execution_count": 80,
   "id": "b56f799a-8e87-42cc-87a3-a568238d0c7c",
   "metadata": {},
   "outputs": [
    {
     "ename": "NameError",
     "evalue": "name 'abcdef' is not defined",
     "output_type": "error",
     "traceback": [
      "\u001b[0;31m---------------------------------------------------------------------------\u001b[0m",
      "\u001b[0;31mNameError\u001b[0m                                 Traceback (most recent call last)",
      "Cell \u001b[0;32mIn[80], line 1\u001b[0m\n\u001b[0;32m----> 1\u001b[0m \u001b[38;5;28mstr\u001b[39m(\u001b[43mabcdef\u001b[49m)\n",
      "\u001b[0;31mNameError\u001b[0m: name 'abcdef' is not defined"
     ]
    }
   ],
   "source": [
    "str(abcdef)"
   ]
  },
  {
   "cell_type": "code",
   "execution_count": 82,
   "id": "65e3ca41-9d1e-4094-9375-6b614651a8cb",
   "metadata": {},
   "outputs": [
    {
     "data": {
      "text/plain": [
       "300"
      ]
     },
     "execution_count": 82,
     "metadata": {},
     "output_type": "execute_result"
    }
   ],
   "source": [
    "int('300')"
   ]
  },
  {
   "cell_type": "code",
   "execution_count": 83,
   "id": "cc3b5c15-a76e-4aab-b1f9-1aba52ddc884",
   "metadata": {},
   "outputs": [
    {
     "ename": "ValueError",
     "evalue": "invalid literal for int() with base 10: '30x'",
     "output_type": "error",
     "traceback": [
      "\u001b[0;31m---------------------------------------------------------------------------\u001b[0m",
      "\u001b[0;31mValueError\u001b[0m                                Traceback (most recent call last)",
      "Cell \u001b[0;32mIn[83], line 1\u001b[0m\n\u001b[0;32m----> 1\u001b[0m \u001b[38;5;28;43mint\u001b[39;49m\u001b[43m(\u001b[49m\u001b[38;5;124;43m'\u001b[39;49m\u001b[38;5;124;43m30x\u001b[39;49m\u001b[38;5;124;43m'\u001b[39;49m\u001b[43m)\u001b[49m\n",
      "\u001b[0;31mValueError\u001b[0m: invalid literal for int() with base 10: '30x'"
     ]
    }
   ],
   "source": [
    "int('30x')"
   ]
  },
  {
   "cell_type": "code",
   "execution_count": 84,
   "id": "c8f715fa-2ef4-4085-bf88-c3153e5551c0",
   "metadata": {},
   "outputs": [
    {
     "data": {
      "text/plain": [
       "bool"
      ]
     },
     "execution_count": 84,
     "metadata": {},
     "output_type": "execute_result"
    }
   ],
   "source": [
    "type(False)"
   ]
  },
  {
   "cell_type": "code",
   "execution_count": 85,
   "id": "aa40c01b-50c3-4c03-834d-342bbc3594b1",
   "metadata": {},
   "outputs": [
    {
     "data": {
      "text/plain": [
       "str"
      ]
     },
     "execution_count": 85,
     "metadata": {},
     "output_type": "execute_result"
    }
   ],
   "source": [
    "type('False')"
   ]
  },
  {
   "cell_type": "code",
   "execution_count": 86,
   "id": "b6a4a5bd-3769-4ec1-b152-ff6d681fdd22",
   "metadata": {},
   "outputs": [
    {
     "data": {
      "text/plain": [
       "float"
      ]
     },
     "execution_count": 86,
     "metadata": {},
     "output_type": "execute_result"
    }
   ],
   "source": [
    "type(3.5)"
   ]
  },
  {
   "cell_type": "code",
   "execution_count": 66,
   "id": "d6dc7bf1-8b51-4c42-a38c-ee21a1d585f7",
   "metadata": {},
   "outputs": [
    {
     "data": {
      "text/plain": [
       "11"
      ]
     },
     "execution_count": 66,
     "metadata": {},
     "output_type": "execute_result"
    }
   ],
   "source": [
    "1 + 2\n",
    "3 + 4\n",
    "5 + 6"
   ]
  },
  {
   "cell_type": "code",
   "execution_count": 67,
   "id": "c973b6d7-b02d-472b-b86f-c3f0ed65744c",
   "metadata": {},
   "outputs": [
    {
     "data": {
      "text/plain": [
       "4"
      ]
     },
     "execution_count": 67,
     "metadata": {},
     "output_type": "execute_result"
    }
   ],
   "source": [
    "2 * 2"
   ]
  },
  {
   "cell_type": "code",
   "execution_count": 69,
   "id": "85dcf9d5-81fc-4c3d-9357-7f48f200f5f5",
   "metadata": {},
   "outputs": [
    {
     "name": "stdout",
     "output_type": "stream",
     "text": [
      "3\n",
      "7\n",
      "11\n"
     ]
    }
   ],
   "source": [
    "print(1 + 2)\n",
    "print(3 + 4)\n",
    "print(5 + 6)"
   ]
  },
  {
   "cell_type": "code",
   "execution_count": 74,
   "id": "35668749-9bba-43eb-992b-1011278c6106",
   "metadata": {},
   "outputs": [
    {
     "name": "stdout",
     "output_type": "stream",
     "text": [
      "36\n",
      "last line\n"
     ]
    }
   ],
   "source": [
    "print(2 + 34)\n",
    "print('last line')"
   ]
  },
  {
   "cell_type": "code",
   "execution_count": 81,
   "id": "1f1618d9-90cb-438a-a120-8d20758ea4a8",
   "metadata": {},
   "outputs": [
    {
     "data": {
      "text/plain": [
       "['In',\n",
       " 'Out',\n",
       " '_',\n",
       " '_12',\n",
       " '_13',\n",
       " '_15',\n",
       " '_16',\n",
       " '_18',\n",
       " '_2',\n",
       " '_24',\n",
       " '_25',\n",
       " '_27',\n",
       " '_28',\n",
       " '_29',\n",
       " '_30',\n",
       " '_32',\n",
       " '_34',\n",
       " '_35',\n",
       " '_37',\n",
       " '_38',\n",
       " '_39',\n",
       " '_4',\n",
       " '_40',\n",
       " '_43',\n",
       " '_44',\n",
       " '_45',\n",
       " '_46',\n",
       " '_47',\n",
       " '_5',\n",
       " '_50',\n",
       " '_51',\n",
       " '_55',\n",
       " '_56',\n",
       " '_57',\n",
       " '_58',\n",
       " '_59',\n",
       " '_60',\n",
       " '_61',\n",
       " '_63',\n",
       " '_66',\n",
       " '_67',\n",
       " '_68',\n",
       " '_70',\n",
       " '_73',\n",
       " '_75',\n",
       " '_76',\n",
       " '_78',\n",
       " '_8',\n",
       " '_9',\n",
       " '__',\n",
       " '___',\n",
       " '__builtin__',\n",
       " '__builtins__',\n",
       " '__doc__',\n",
       " '__loader__',\n",
       " '__name__',\n",
       " '__package__',\n",
       " '__session__',\n",
       " '__spec__',\n",
       " '_dh',\n",
       " '_i',\n",
       " '_i1',\n",
       " '_i10',\n",
       " '_i11',\n",
       " '_i12',\n",
       " '_i13',\n",
       " '_i14',\n",
       " '_i15',\n",
       " '_i16',\n",
       " '_i17',\n",
       " '_i18',\n",
       " '_i19',\n",
       " '_i2',\n",
       " '_i20',\n",
       " '_i21',\n",
       " '_i22',\n",
       " '_i23',\n",
       " '_i24',\n",
       " '_i25',\n",
       " '_i26',\n",
       " '_i27',\n",
       " '_i28',\n",
       " '_i29',\n",
       " '_i3',\n",
       " '_i30',\n",
       " '_i31',\n",
       " '_i32',\n",
       " '_i33',\n",
       " '_i34',\n",
       " '_i35',\n",
       " '_i36',\n",
       " '_i37',\n",
       " '_i38',\n",
       " '_i39',\n",
       " '_i4',\n",
       " '_i40',\n",
       " '_i41',\n",
       " '_i42',\n",
       " '_i43',\n",
       " '_i44',\n",
       " '_i45',\n",
       " '_i46',\n",
       " '_i47',\n",
       " '_i48',\n",
       " '_i49',\n",
       " '_i5',\n",
       " '_i50',\n",
       " '_i51',\n",
       " '_i52',\n",
       " '_i53',\n",
       " '_i54',\n",
       " '_i55',\n",
       " '_i56',\n",
       " '_i57',\n",
       " '_i58',\n",
       " '_i59',\n",
       " '_i6',\n",
       " '_i60',\n",
       " '_i61',\n",
       " '_i62',\n",
       " '_i63',\n",
       " '_i64',\n",
       " '_i65',\n",
       " '_i66',\n",
       " '_i67',\n",
       " '_i68',\n",
       " '_i69',\n",
       " '_i7',\n",
       " '_i70',\n",
       " '_i71',\n",
       " '_i72',\n",
       " '_i73',\n",
       " '_i74',\n",
       " '_i75',\n",
       " '_i76',\n",
       " '_i77',\n",
       " '_i78',\n",
       " '_i79',\n",
       " '_i8',\n",
       " '_i80',\n",
       " '_i81',\n",
       " '_i9',\n",
       " '_ih',\n",
       " '_ii',\n",
       " '_iii',\n",
       " '_oh',\n",
       " 'apple',\n",
       " 'birth_year',\n",
       " 'cost',\n",
       " 'cpo',\n",
       " 'exit',\n",
       " 'false',\n",
       " 'first',\n",
       " 'gazornin',\n",
       " 'get_ipython',\n",
       " 'keyword',\n",
       " 'last',\n",
       " 'math',\n",
       " 'name',\n",
       " 'open',\n",
       " 'quit',\n",
       " 'raised',\n",
       " 't',\n",
       " 'thing',\n",
       " 'year']"
      ]
     },
     "execution_count": 81,
     "metadata": {},
     "output_type": "execute_result"
    }
   ],
   "source": [
    "dir()"
   ]
  },
  {
   "cell_type": "code",
   "execution_count": 87,
   "id": "b96bb760-5f77-47e2-8e50-0b1b2b43535f",
   "metadata": {},
   "outputs": [
    {
     "data": {
      "text/plain": [
       "3"
      ]
     },
     "execution_count": 87,
     "metadata": {},
     "output_type": "execute_result"
    }
   ],
   "source": [
    "15 % 6"
   ]
  },
  {
   "cell_type": "code",
   "execution_count": 88,
   "id": "bc67e261-fb82-4895-b072-56d07b3a7531",
   "metadata": {},
   "outputs": [
    {
     "data": {
      "text/plain": [
       "0"
      ]
     },
     "execution_count": 88,
     "metadata": {},
     "output_type": "execute_result"
    }
   ],
   "source": [
    "15 % 3"
   ]
  },
  {
   "cell_type": "code",
   "execution_count": 89,
   "id": "9f982f77-5d35-427d-b3a1-0ee4b327300e",
   "metadata": {},
   "outputs": [
    {
     "data": {
      "text/plain": [
       "'thisthat'"
      ]
     },
     "execution_count": 89,
     "metadata": {},
     "output_type": "execute_result"
    }
   ],
   "source": [
    "'this' + 'that'"
   ]
  },
  {
   "cell_type": "code",
   "execution_count": 90,
   "id": "1dc120e9-4969-4701-8edb-529b6528eae1",
   "metadata": {},
   "outputs": [],
   "source": [
    "first, last = 'Grace', 'Hopper'"
   ]
  },
  {
   "cell_type": "code",
   "execution_count": 91,
   "id": "511996f1-9f1c-4305-8f85-b99a97912966",
   "metadata": {},
   "outputs": [],
   "source": [
    "name = 'Grace Hopper'\n",
    "birth_year = 1906"
   ]
  },
  {
   "cell_type": "code",
   "execution_count": 95,
   "id": "e20465c1-7fec-4f95-9ed7-1cf8d10d9a83",
   "metadata": {},
   "outputs": [],
   "source": [
    "x, y, z = 1, 2, 3"
   ]
  },
  {
   "cell_type": "code",
   "execution_count": 96,
   "id": "ef54b87b-79a5-4f19-b66f-0a1d866dbd8d",
   "metadata": {},
   "outputs": [],
   "source": [
    "a, b, o, p = 'b', 'a', 'p', 'o'"
   ]
  },
  {
   "cell_type": "code",
   "execution_count": 97,
   "id": "3a7a899a-c0a4-45d0-b403-6bb720e4e0b3",
   "metadata": {},
   "outputs": [
    {
     "data": {
      "text/plain": [
       "'pop'"
      ]
     },
     "execution_count": 97,
     "metadata": {},
     "output_type": "execute_result"
    }
   ],
   "source": [
    "o + p + o"
   ]
  },
  {
   "cell_type": "code",
   "execution_count": 98,
   "id": "fe1d5dcf-6118-4077-87eb-fb3d0fdca375",
   "metadata": {},
   "outputs": [
    {
     "data": {
      "text/plain": [
       "'bbba'"
      ]
     },
     "execution_count": 98,
     "metadata": {},
     "output_type": "execute_result"
    }
   ],
   "source": [
    "a * 3 + b"
   ]
  },
  {
   "cell_type": "code",
   "execution_count": 99,
   "id": "70992c77-b225-44ed-a430-c2b87246707a",
   "metadata": {},
   "outputs": [
    {
     "data": {
      "text/plain": [
       "'bookkeeper'"
      ]
     },
     "execution_count": 99,
     "metadata": {},
     "output_type": "execute_result"
    }
   ],
   "source": [
    "a + p * 2 + 'k' * 2 + 'e' * 2 + o + 'er'"
   ]
  },
  {
   "cell_type": "code",
   "execution_count": 100,
   "id": "d424951c-51ac-43fb-b3b6-f4295cc211ba",
   "metadata": {},
   "outputs": [
    {
     "data": {
      "text/plain": [
       "4"
      ]
     },
     "execution_count": 100,
     "metadata": {},
     "output_type": "execute_result"
    }
   ],
   "source": [
    "2 * 2"
   ]
  },
  {
   "cell_type": "code",
   "execution_count": 101,
   "id": "eb26f76e-89e9-4015-8dd3-2a5d5d51edbb",
   "metadata": {},
   "outputs": [
    {
     "data": {
      "text/plain": [
       "'22'"
      ]
     },
     "execution_count": 101,
     "metadata": {},
     "output_type": "execute_result"
    }
   ],
   "source": [
    "'2' * 2"
   ]
  },
  {
   "cell_type": "code",
   "execution_count": 102,
   "id": "79f6dbf7-4317-4c28-a310-fba15474dd3b",
   "metadata": {},
   "outputs": [],
   "source": [
    "name = 'Bruce Lee'"
   ]
  },
  {
   "cell_type": "code",
   "execution_count": 103,
   "id": "13a752ae-6cc5-4395-b6c4-34c9808624b4",
   "metadata": {},
   "outputs": [
    {
     "data": {
      "text/plain": [
       "2"
      ]
     },
     "execution_count": 103,
     "metadata": {},
     "output_type": "execute_result"
    }
   ],
   "source": [
    "len('ok')"
   ]
  },
  {
   "cell_type": "code",
   "execution_count": 104,
   "id": "79ca192c-0604-466e-8dec-a543623eb5cb",
   "metadata": {},
   "outputs": [],
   "source": [
    "ok = 2 # int, scalar"
   ]
  },
  {
   "cell_type": "code",
   "execution_count": 105,
   "id": "0beb9a84-4b3c-432b-ae60-80db7a335921",
   "metadata": {},
   "outputs": [
    {
     "ename": "TypeError",
     "evalue": "object of type 'int' has no len()",
     "output_type": "error",
     "traceback": [
      "\u001b[0;31m---------------------------------------------------------------------------\u001b[0m",
      "\u001b[0;31mTypeError\u001b[0m                                 Traceback (most recent call last)",
      "Cell \u001b[0;32mIn[105], line 1\u001b[0m\n\u001b[0;32m----> 1\u001b[0m \u001b[38;5;28;43mlen\u001b[39;49m\u001b[43m(\u001b[49m\u001b[43mok\u001b[49m\u001b[43m)\u001b[49m \u001b[38;5;66;03m# length of a scalar?\u001b[39;00m\n",
      "\u001b[0;31mTypeError\u001b[0m: object of type 'int' has no len()"
     ]
    }
   ],
   "source": [
    "len(ok) # length of a scalar?"
   ]
  },
  {
   "cell_type": "code",
   "execution_count": 106,
   "id": "7db376b3-dc38-4602-919a-9b6d79d234ec",
   "metadata": {},
   "outputs": [],
   "source": [
    "name = 'Dave'"
   ]
  },
  {
   "cell_type": "code",
   "execution_count": 107,
   "id": "a831aaeb-1f2f-44d3-a9b5-1141731ad7e8",
   "metadata": {},
   "outputs": [
    {
     "data": {
      "text/plain": [
       "True"
      ]
     },
     "execution_count": 107,
     "metadata": {},
     "output_type": "execute_result"
    }
   ],
   "source": [
    "'C' in 'Cigna'"
   ]
  },
  {
   "cell_type": "code",
   "execution_count": 108,
   "id": "44e19c24-04c4-4836-bf27-ce8b9f7a07f2",
   "metadata": {},
   "outputs": [
    {
     "ename": "TypeError",
     "evalue": "argument of type 'int' is not iterable",
     "output_type": "error",
     "traceback": [
      "\u001b[0;31m---------------------------------------------------------------------------\u001b[0m",
      "\u001b[0;31mTypeError\u001b[0m                                 Traceback (most recent call last)",
      "Cell \u001b[0;32mIn[108], line 1\u001b[0m\n\u001b[0;32m----> 1\u001b[0m \u001b[38;5;241;43m1\u001b[39;49m\u001b[43m \u001b[49m\u001b[38;5;129;43;01min\u001b[39;49;00m\u001b[43m \u001b[49m\u001b[38;5;241;43m12345\u001b[39;49m\n",
      "\u001b[0;31mTypeError\u001b[0m: argument of type 'int' is not iterable"
     ]
    }
   ],
   "source": [
    "1 in 12345"
   ]
  },
  {
   "cell_type": "code",
   "execution_count": 109,
   "id": "32c6d757-ba55-4fb4-b0f8-18b45ffaf067",
   "metadata": {},
   "outputs": [
    {
     "data": {
      "text/plain": [
       "True"
      ]
     },
     "execution_count": 109,
     "metadata": {},
     "output_type": "execute_result"
    }
   ],
   "source": [
    "'C' in 'Cigna'"
   ]
  },
  {
   "cell_type": "code",
   "execution_count": 110,
   "id": "9528adde-867d-4163-829d-a67620de209b",
   "metadata": {},
   "outputs": [
    {
     "data": {
      "text/plain": [
       "True"
      ]
     },
     "execution_count": 110,
     "metadata": {},
     "output_type": "execute_result"
    }
   ],
   "source": [
    "'Cig' in 'Cigna'"
   ]
  },
  {
   "cell_type": "code",
   "execution_count": 111,
   "id": "46313f35-0d86-4829-aafd-2d5b76b5c7ba",
   "metadata": {},
   "outputs": [
    {
     "data": {
      "text/plain": [
       "True"
      ]
     },
     "execution_count": 111,
     "metadata": {},
     "output_type": "execute_result"
    }
   ],
   "source": [
    "'3' in '12345'"
   ]
  },
  {
   "cell_type": "code",
   "execution_count": 112,
   "id": "d5d7c65f-38f0-410c-969d-7b0b40625b02",
   "metadata": {},
   "outputs": [],
   "source": [
    "count = 12345"
   ]
  },
  {
   "cell_type": "code",
   "execution_count": 114,
   "id": "193309c4-94a9-4925-9704-1d20e7940715",
   "metadata": {},
   "outputs": [
    {
     "data": {
      "text/plain": [
       "False"
      ]
     },
     "execution_count": 114,
     "metadata": {},
     "output_type": "execute_result"
    }
   ],
   "source": [
    "'7' in str(count)"
   ]
  },
  {
   "cell_type": "code",
   "execution_count": 115,
   "id": "5d083c74-5273-43b0-84b0-5a016ebf0839",
   "metadata": {},
   "outputs": [],
   "source": [
    "import random"
   ]
  },
  {
   "cell_type": "code",
   "execution_count": 116,
   "id": "4e538948-c4d6-4281-9a19-7b45197c2ec5",
   "metadata": {},
   "outputs": [
    {
     "data": {
      "text/plain": [
       "['BPF',\n",
       " 'LOG4',\n",
       " 'NV_MAGICCONST',\n",
       " 'RECIP_BPF',\n",
       " 'Random',\n",
       " 'SG_MAGICCONST',\n",
       " 'SystemRandom',\n",
       " 'TWOPI',\n",
       " '_ONE',\n",
       " '_Sequence',\n",
       " '__all__',\n",
       " '__builtins__',\n",
       " '__cached__',\n",
       " '__doc__',\n",
       " '__file__',\n",
       " '__loader__',\n",
       " '__name__',\n",
       " '__package__',\n",
       " '__spec__',\n",
       " '_accumulate',\n",
       " '_acos',\n",
       " '_bisect',\n",
       " '_ceil',\n",
       " '_cos',\n",
       " '_e',\n",
       " '_exp',\n",
       " '_fabs',\n",
       " '_floor',\n",
       " '_index',\n",
       " '_inst',\n",
       " '_isfinite',\n",
       " '_lgamma',\n",
       " '_log',\n",
       " '_log2',\n",
       " '_os',\n",
       " '_pi',\n",
       " '_random',\n",
       " '_repeat',\n",
       " '_sha512',\n",
       " '_sin',\n",
       " '_sqrt',\n",
       " '_test',\n",
       " '_test_generator',\n",
       " '_urandom',\n",
       " '_warn',\n",
       " 'betavariate',\n",
       " 'binomialvariate',\n",
       " 'choice',\n",
       " 'choices',\n",
       " 'expovariate',\n",
       " 'gammavariate',\n",
       " 'gauss',\n",
       " 'getrandbits',\n",
       " 'getstate',\n",
       " 'lognormvariate',\n",
       " 'normalvariate',\n",
       " 'paretovariate',\n",
       " 'randbytes',\n",
       " 'randint',\n",
       " 'random',\n",
       " 'randrange',\n",
       " 'sample',\n",
       " 'seed',\n",
       " 'setstate',\n",
       " 'shuffle',\n",
       " 'triangular',\n",
       " 'uniform',\n",
       " 'vonmisesvariate',\n",
       " 'weibullvariate']"
      ]
     },
     "execution_count": 116,
     "metadata": {},
     "output_type": "execute_result"
    }
   ],
   "source": [
    "dir(random)"
   ]
  },
  {
   "cell_type": "code",
   "execution_count": 117,
   "id": "f3a70381-f999-44b8-9fb2-51010bc9770c",
   "metadata": {},
   "outputs": [
    {
     "name": "stdout",
     "output_type": "stream",
     "text": [
      "Help on method randint in module random:\n",
      "\n",
      "randint(a, b) method of random.Random instance\n",
      "    Return random integer in range [a, b], including both end points.\n",
      "\n"
     ]
    }
   ],
   "source": [
    "help(random.randint)"
   ]
  },
  {
   "cell_type": "code",
   "execution_count": null,
   "id": "2fad6e15-d519-49d5-ae7e-3153fa21fc6b",
   "metadata": {},
   "outputs": [],
   "source": []
  }
 ],
 "metadata": {
  "kernelspec": {
   "display_name": "Python 3 (ipykernel)",
   "language": "python",
   "name": "python3"
  },
  "language_info": {
   "codemirror_mode": {
    "name": "ipython",
    "version": 3
   },
   "file_extension": ".py",
   "mimetype": "text/x-python",
   "name": "python",
   "nbconvert_exporter": "python",
   "pygments_lexer": "ipython3",
   "version": "3.12.2"
  }
 },
 "nbformat": 4,
 "nbformat_minor": 5
}
